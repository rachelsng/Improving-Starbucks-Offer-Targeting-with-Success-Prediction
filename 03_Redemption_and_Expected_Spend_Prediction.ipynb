{
 "cells": [
  {
   "cell_type": "markdown",
   "id": "3fcc5adc",
   "metadata": {},
   "source": [
    "# Improving Starbucks Offer Targeting with Redemption Prediction\n",
    "\n",
    "## 03. Redemption and Expected Spend Prediction\n",
    "\n",
    "This is the third & final notebook out of 3 which details the steps taken to:\n",
    "1. Tune and select a classifier that predicts redemption\n",
    "2. Tuning and selecting a regressor that predicts expected spend if redeemed \n",
    "3. Combine both to output an understandable ranking of offers\n",
    "\n",
    "<b> Content </b>\n",
    "- [0. Recap of Variables](#section0)\n",
    "- [1. Prepare Dataset](#section1)\n",
    "    - [1.1 Encode Categorical Variables](#section1.1)\n",
    "- [2. Predicting Offer Redemption through Classfication](#section2)\n",
    "    - [2.1 Create Train-Test Split & Evaluation Helper Functions](#section2.1)\n",
    "    - [2.2 Logistic Regression](#section2.2)\n",
    "    - [2.3 Support Vector Machine](#section2.3)\n",
    "    - [2.4 Random Forest Classifier](#section2.4)\n",
    "    - [2.5 XGBoost Classifier](#section2.5)\n",
    "    - [2.6 Classifier Evaluation & Selection](#section2.6)\n",
    "    - [2.7 Findings: The Most Important Features Predicting Offer Success](#section2.7)\n",
    "- [3. Predicting Amount Spent through Regression](#section3)\n",
    "    - [3.1 Create Train-Test Split and Evaluation Functions](#section3.1)\n",
    "    - [3.2 Linear Regression](#section3.2)\n",
    "    - [3.3 Random Forest Regressor](#section3.3)\n",
    "    - [3.4 K-Nearest Neighbours Regressor](#section3.4)\n",
    "    - [3.5 Regressor Evaluation & Selection](#section3.5)\n",
    "    - [3.6 Findings: The Most Important Features Predicting Amount Spent](#section3.6)\n",
    "- [4. Combined Expected Value Model](#section4)\n",
    "    - [4.1 Offer Ranking Using Trained Models](#section4.1)"
   ]
  },
  {
   "cell_type": "code",
   "execution_count": 1,
   "id": "69c076bd",
   "metadata": {},
   "outputs": [],
   "source": [
    "# Import numerical libraries\n",
    "import numpy as np\n",
    "import pandas as pd\n",
    "\n",
    "# Import plotting libraries\n",
    "import seaborn as sns\n",
    "import matplotlib.pyplot as plt\n",
    "\n",
    "# Import pre-processing functions\n",
    "from sklearn.compose import ColumnTransformer\n",
    "from sklearn.preprocessing import StandardScaler\n",
    "\n",
    "# Import tuning functions\n",
    "from sklearn.model_selection import train_test_split, GridSearchCV\n",
    "\n",
    "# Import classifiers & regressors\n",
    "from sklearn.linear_model import LogisticRegression, LinearRegression\n",
    "from sklearn.ensemble import RandomForestClassifier, RandomForestRegressor\n",
    "from sklearn.neighbors import KNeighborsRegressor\n",
    "from sklearn.svm import SVC\n",
    "from xgboost import XGBClassifier\n",
    "\n",
    "# Import evaluation functions\n",
    "from sklearn.metrics import accuracy_score, confusion_matrix, precision_score, \\\n",
    "                            ConfusionMatrixDisplay,roc_auc_score, roc_curve, recall_score,mean_squared_error \n",
    "from sklearn.datasets import make_circles\n",
    "from sklearn.inspection import permutation_importance\n",
    "\n",
    "import warnings\n",
    "warnings.filterwarnings('ignore')"
   ]
  },
  {
   "cell_type": "markdown",
   "id": "75a1833f",
   "metadata": {},
   "source": [
    "## 0. Recap of Variables<a class=\"anchor\" id=\"section0\"></a>"
   ]
  },
  {
   "cell_type": "markdown",
   "id": "fe7175e3",
   "metadata": {},
   "source": [
    "This data was already processed in Notebook *01.Data Preprocessing*.\n",
    "\n",
    "- *person*: Alphanumeric identifier of a customer\n",
    "- *offer_id*: Alphanumeric identifier of an offer\n",
    "- *journey*: Alphanumeric identifier of an end-to-end offer lifecycle\n",
    "- *days*: Days since data collection has commenced\n",
    "- *offer received, viewed, completed*: 0 if True, 1 if False\n",
    "- *gender*: Male (M), Female (F) or Others (O)\n",
    "- *age*: Numeric value for age\n",
    "- *reward*: The number of reward points (stars*) awarded for completion of an offer\n",
    "- *difficulty*: Minimum spend required to complete offer\n",
    "- *duration*: Days that offer is valid for\n",
    "- *offer type*: Buy-one-get-one (bogo), informational or direct discount\n",
    "- *channels*: Communication channels that offer was delivered over, split into dummy \n",
    "- *promo_name*: Promotion configuration identifier\n",
    "- *amount*: Transaction amount\n",
    "- *catcoding*: Combination of offer received-offer viewed-offer completed as per the table below\n",
    "- *scenario_description*: User-friendly description of *catcoding* as per the table below\n",
    "\n",
    "<img src = \"./images/customerjourneywstatus.png\" width=\"700\"/>"
   ]
  },
  {
   "cell_type": "code",
   "execution_count": 2,
   "id": "d33cf91b",
   "metadata": {},
   "outputs": [
    {
     "data": {
      "text/plain": [
       "Index(['person', 'offer_id', 'journey', 'days', 'offer received',\n",
       "       'offer viewed', 'offer completed', 'gender', 'age', 'income',\n",
       "       'member_duration', 'reward', 'difficulty', 'duration', 'offer_type',\n",
       "       'channel_web', 'channel_mobile', 'channel_social', 'promo_name',\n",
       "       'amount', 'catcoding', 'scenario_description'],\n",
       "      dtype='object')"
      ]
     },
     "execution_count": 2,
     "metadata": {},
     "output_type": "execute_result"
    }
   ],
   "source": [
    "# Import and view data\n",
    "df_all = pd.read_csv('data/preprocessed_data.csv')\n",
    "df_all.columns"
   ]
  },
  {
   "cell_type": "markdown",
   "id": "17bd33d4",
   "metadata": {},
   "source": [
    "## 1. Prepare Dataset<a class=\"anchor\" id=\"section1\"></a>"
   ]
  },
  {
   "cell_type": "markdown",
   "id": "3b8cd22f",
   "metadata": {},
   "source": [
    "### 1.1 Encode Categorical Variables <a class=\"anchor\" id=\"section1.1\"></a>"
   ]
  },
  {
   "cell_type": "markdown",
   "id": "ed3f1669",
   "metadata": {},
   "source": [
    "First, create a dummy column with the classification target variable *Success*. If offer was received, seen and completed, then *Success* = 1, else 0."
   ]
  },
  {
   "cell_type": "code",
   "execution_count": 3,
   "id": "2757d055",
   "metadata": {},
   "outputs": [],
   "source": [
    "# Add a binary success / failure column\n",
    "df_all['success'] = np.where(df_all[\"scenario_description\"] == 'success',1,0)"
   ]
  },
  {
   "cell_type": "markdown",
   "id": "acbf9e1f",
   "metadata": {},
   "source": [
    "Secondly, create dummies for categorical columns.\n",
    "\n",
    "- *gender_dum_M*: 0 if Female, 1 if Male\n",
    "- *offer_type_dum_discount*: 0 if buy-one-get-one, 1 if discount"
   ]
  },
  {
   "cell_type": "code",
   "execution_count": 4,
   "id": "2bde66fb",
   "metadata": {},
   "outputs": [],
   "source": [
    "# Copy the dummy columns to preserve them\n",
    "df_all[['offer_type_dum', 'gender_dum']] = df_all[['offer_type','gender']]\n",
    "\n",
    "# Use newly created columns in get_dummies (original columns will be dropped)\n",
    "dummies_needed = ['gender_dum', 'offer_type_dum']\n",
    "\n",
    "# Ensure to drop_first = True to prevent multicollinearity issues\n",
    "df_all = pd.get_dummies(data=df_all, columns=dummies_needed, drop_first=True, prefix_sep='_')"
   ]
  },
  {
   "cell_type": "code",
   "execution_count": 5,
   "id": "31d9b736",
   "metadata": {},
   "outputs": [
    {
     "data": {
      "text/html": [
       "<div>\n",
       "<style scoped>\n",
       "    .dataframe tbody tr th:only-of-type {\n",
       "        vertical-align: middle;\n",
       "    }\n",
       "\n",
       "    .dataframe tbody tr th {\n",
       "        vertical-align: top;\n",
       "    }\n",
       "\n",
       "    .dataframe thead th {\n",
       "        text-align: right;\n",
       "    }\n",
       "</style>\n",
       "<table border=\"1\" class=\"dataframe\">\n",
       "  <thead>\n",
       "    <tr style=\"text-align: right;\">\n",
       "      <th></th>\n",
       "      <th>person</th>\n",
       "      <th>offer_id</th>\n",
       "      <th>journey</th>\n",
       "      <th>days</th>\n",
       "      <th>offer received</th>\n",
       "      <th>offer viewed</th>\n",
       "      <th>offer completed</th>\n",
       "      <th>gender</th>\n",
       "      <th>age</th>\n",
       "      <th>income</th>\n",
       "      <th>...</th>\n",
       "      <th>channel_web</th>\n",
       "      <th>channel_mobile</th>\n",
       "      <th>channel_social</th>\n",
       "      <th>promo_name</th>\n",
       "      <th>amount</th>\n",
       "      <th>catcoding</th>\n",
       "      <th>scenario_description</th>\n",
       "      <th>success</th>\n",
       "      <th>gender_dum_M</th>\n",
       "      <th>offer_type_dum_discount</th>\n",
       "    </tr>\n",
       "  </thead>\n",
       "  <tbody>\n",
       "    <tr>\n",
       "      <th>0</th>\n",
       "      <td>0009655768c64bdeb2e877511632db8f</td>\n",
       "      <td>2906b810c7d4411798c6938adc9daaa5</td>\n",
       "      <td>1</td>\n",
       "      <td>24.00</td>\n",
       "      <td>1</td>\n",
       "      <td>0</td>\n",
       "      <td>1</td>\n",
       "      <td>M</td>\n",
       "      <td>33</td>\n",
       "      <td>72000.0</td>\n",
       "      <td>...</td>\n",
       "      <td>1</td>\n",
       "      <td>1</td>\n",
       "      <td>0</td>\n",
       "      <td>disc-1</td>\n",
       "      <td>10.27</td>\n",
       "      <td>1-0-1</td>\n",
       "      <td>failed, completed</td>\n",
       "      <td>0</td>\n",
       "      <td>1</td>\n",
       "      <td>1</td>\n",
       "    </tr>\n",
       "    <tr>\n",
       "      <th>1</th>\n",
       "      <td>00426fe3ffde4c6b9cb9ad6d077a13ea</td>\n",
       "      <td>2906b810c7d4411798c6938adc9daaa5</td>\n",
       "      <td>30</td>\n",
       "      <td>17.00</td>\n",
       "      <td>1</td>\n",
       "      <td>0</td>\n",
       "      <td>0</td>\n",
       "      <td>F</td>\n",
       "      <td>19</td>\n",
       "      <td>65000.0</td>\n",
       "      <td>...</td>\n",
       "      <td>1</td>\n",
       "      <td>1</td>\n",
       "      <td>0</td>\n",
       "      <td>disc-1</td>\n",
       "      <td>0.00</td>\n",
       "      <td>1-0-0</td>\n",
       "      <td>failed, not seen</td>\n",
       "      <td>0</td>\n",
       "      <td>0</td>\n",
       "      <td>1</td>\n",
       "    </tr>\n",
       "    <tr>\n",
       "      <th>2</th>\n",
       "      <td>00426fe3ffde4c6b9cb9ad6d077a13ea</td>\n",
       "      <td>2906b810c7d4411798c6938adc9daaa5</td>\n",
       "      <td>31</td>\n",
       "      <td>24.00</td>\n",
       "      <td>1</td>\n",
       "      <td>0</td>\n",
       "      <td>0</td>\n",
       "      <td>F</td>\n",
       "      <td>19</td>\n",
       "      <td>65000.0</td>\n",
       "      <td>...</td>\n",
       "      <td>1</td>\n",
       "      <td>1</td>\n",
       "      <td>0</td>\n",
       "      <td>disc-1</td>\n",
       "      <td>0.00</td>\n",
       "      <td>1-0-0</td>\n",
       "      <td>failed, not seen</td>\n",
       "      <td>0</td>\n",
       "      <td>0</td>\n",
       "      <td>1</td>\n",
       "    </tr>\n",
       "    <tr>\n",
       "      <th>3</th>\n",
       "      <td>005500a7188546ff8a767329a2f7c76a</td>\n",
       "      <td>2906b810c7d4411798c6938adc9daaa5</td>\n",
       "      <td>43</td>\n",
       "      <td>17.00</td>\n",
       "      <td>1</td>\n",
       "      <td>0</td>\n",
       "      <td>0</td>\n",
       "      <td>M</td>\n",
       "      <td>56</td>\n",
       "      <td>47000.0</td>\n",
       "      <td>...</td>\n",
       "      <td>1</td>\n",
       "      <td>1</td>\n",
       "      <td>0</td>\n",
       "      <td>disc-1</td>\n",
       "      <td>0.00</td>\n",
       "      <td>1-0-0</td>\n",
       "      <td>failed, not seen</td>\n",
       "      <td>0</td>\n",
       "      <td>1</td>\n",
       "      <td>1</td>\n",
       "    </tr>\n",
       "    <tr>\n",
       "      <th>4</th>\n",
       "      <td>00715b6e55c3431cb56ff7307eb19675</td>\n",
       "      <td>2906b810c7d4411798c6938adc9daaa5</td>\n",
       "      <td>65</td>\n",
       "      <td>22.25</td>\n",
       "      <td>1</td>\n",
       "      <td>0</td>\n",
       "      <td>1</td>\n",
       "      <td>F</td>\n",
       "      <td>58</td>\n",
       "      <td>119000.0</td>\n",
       "      <td>...</td>\n",
       "      <td>1</td>\n",
       "      <td>1</td>\n",
       "      <td>0</td>\n",
       "      <td>disc-1</td>\n",
       "      <td>21.35</td>\n",
       "      <td>1-0-1</td>\n",
       "      <td>failed, completed</td>\n",
       "      <td>0</td>\n",
       "      <td>0</td>\n",
       "      <td>1</td>\n",
       "    </tr>\n",
       "  </tbody>\n",
       "</table>\n",
       "<p>5 rows × 25 columns</p>\n",
       "</div>"
      ],
      "text/plain": [
       "                             person                          offer_id  \\\n",
       "0  0009655768c64bdeb2e877511632db8f  2906b810c7d4411798c6938adc9daaa5   \n",
       "1  00426fe3ffde4c6b9cb9ad6d077a13ea  2906b810c7d4411798c6938adc9daaa5   \n",
       "2  00426fe3ffde4c6b9cb9ad6d077a13ea  2906b810c7d4411798c6938adc9daaa5   \n",
       "3  005500a7188546ff8a767329a2f7c76a  2906b810c7d4411798c6938adc9daaa5   \n",
       "4  00715b6e55c3431cb56ff7307eb19675  2906b810c7d4411798c6938adc9daaa5   \n",
       "\n",
       "   journey   days  offer received  offer viewed  offer completed gender  age  \\\n",
       "0        1  24.00               1             0                1      M   33   \n",
       "1       30  17.00               1             0                0      F   19   \n",
       "2       31  24.00               1             0                0      F   19   \n",
       "3       43  17.00               1             0                0      M   56   \n",
       "4       65  22.25               1             0                1      F   58   \n",
       "\n",
       "     income  ...  channel_web  channel_mobile  channel_social  promo_name  \\\n",
       "0   72000.0  ...            1               1               0      disc-1   \n",
       "1   65000.0  ...            1               1               0      disc-1   \n",
       "2   65000.0  ...            1               1               0      disc-1   \n",
       "3   47000.0  ...            1               1               0      disc-1   \n",
       "4  119000.0  ...            1               1               0      disc-1   \n",
       "\n",
       "  amount  catcoding  scenario_description  success gender_dum_M  \\\n",
       "0  10.27      1-0-1     failed, completed        0            1   \n",
       "1   0.00      1-0-0      failed, not seen        0            0   \n",
       "2   0.00      1-0-0      failed, not seen        0            0   \n",
       "3   0.00      1-0-0      failed, not seen        0            1   \n",
       "4  21.35      1-0-1     failed, completed        0            0   \n",
       "\n",
       "   offer_type_dum_discount  \n",
       "0                        1  \n",
       "1                        1  \n",
       "2                        1  \n",
       "3                        1  \n",
       "4                        1  \n",
       "\n",
       "[5 rows x 25 columns]"
      ]
     },
     "execution_count": 5,
     "metadata": {},
     "output_type": "execute_result"
    }
   ],
   "source": [
    "df_all.head()"
   ]
  },
  {
   "cell_type": "markdown",
   "id": "99518552",
   "metadata": {},
   "source": [
    "## 2. Predicting Offer Redemption through Classfication<a class=\"anchor\" id=\"section2\"></a>"
   ]
  },
  {
   "cell_type": "markdown",
   "id": "a4f7264f",
   "metadata": {},
   "source": [
    "#### Target Variable: *success* (binary)\n",
    "\n",
    "In this section, we train and select a classifier that helps to predict offer success. This will help to identify which offers are most likely to be redeemed by a particular customer."
   ]
  },
  {
   "cell_type": "markdown",
   "id": "1cec13cf",
   "metadata": {},
   "source": [
    "### 2.1 Create Train-Test Split & Evaluation Helper Functions<a class=\"anchor\" id=\"section2.1\"></a>"
   ]
  },
  {
   "cell_type": "markdown",
   "id": "714fdd4b",
   "metadata": {},
   "source": [
    "30% of data is withheld as the test set."
   ]
  },
  {
   "cell_type": "code",
   "execution_count": 6,
   "id": "91dd7dbb",
   "metadata": {},
   "outputs": [],
   "source": [
    "y = df_all['success']\n",
    "\n",
    "features = ['age', 'income', 'member_duration','reward', 'difficulty', \n",
    "        'days', 'channel_web', 'channel_mobile', \n",
    "        'channel_social', 'gender_dum_M', 'offer_type_dum_discount']\n",
    "\n",
    "X = df_all[features]\n",
    "\n",
    "# Define train-test split\n",
    "X_train, X_test, y_train, y_test = train_test_split(X, y, test_size=0.3,\n",
    "                                                    random_state=42, stratify=y)\n"
   ]
  },
  {
   "cell_type": "code",
   "execution_count": 7,
   "id": "4ccb73fd",
   "metadata": {},
   "outputs": [],
   "source": [
    "# Define a comprehensive classification summary for easy checking\n",
    "\n",
    "def classification_summary(X_train, X_test, y_train, y_test, model_name, model_name_text):\n",
    "    \n",
    "    y_pred_test = model_name.predict(X_test)\n",
    "    \n",
    "    cm = confusion_matrix(y_test, y_pred_test, labels=model_name.classes_)\n",
    "\n",
    "    # Compute all metrics manually\n",
    "    tn = cm[0][0]\n",
    "    fp = cm[0][1]\n",
    "    fn = cm[1][0]\n",
    "    tp = cm[1][1]\n",
    "\n",
    "    tpr = tp/(tp+fn)\n",
    "    fnr = 1 - tpr\n",
    "\n",
    "    tnr = tn/(tn+fp)\n",
    "    fpr = 1-tnr\n",
    "\n",
    "    print('Test Set Metrics')\n",
    "    print('{} Plain Accuracy:{}%'.format(model_name_text,\n",
    "                                         round(accuracy_score(y_test, y_pred_test)*100,2)))\n",
    "    print('TPR:{}%'.format(round(tpr*100,2)))\n",
    "    print('FNR:{}%'.format(round(fnr*100,2)))\n",
    "    print('TNR:{}%'.format(round(tnr*100,2)))\n",
    "    print('FPR:{}%'.format(round(fpr*100,2)))\n",
    "    print('Recall:{}%'.format(round(recall_score(y_test, y_pred_test)*100,2)))\n",
    "    print('Precision:{}%'.format(round(precision_score(y_test, y_pred_test)*100,2)))\n",
    "    print('AUC Score:{}'.format(round(roc_auc_score(y_test,y_pred_test),3)))\n",
    "    print('')\n",
    "    \n",
    "    # Compute train set accuracy\n",
    "    print('Train Set Metrics')\n",
    "    y_pred_train = model_name.predict(X_train)\n",
    "    print('{} Plain Accuracy:{}%'.format(model_name_text,\n",
    "                                         round(accuracy_score(y_train, y_pred_train)*100,2)))\n",
    "    print('Recall:{}%'.format(round(recall_score(y_train, y_pred_train)*100,2)))\n",
    "    print('Precision:{}%'.format(round(precision_score(y_train, y_pred_train)*100,2)))\n",
    "    print('AUC Score:{}'.format(round(roc_auc_score(y_train,y_pred_train),3)))    \n",
    "    \n",
    "    # Display confusion matrix\n",
    "    disp = ConfusionMatrixDisplay(confusion_matrix=cm, display_labels=model_name.classes_)\n",
    "    disp.plot()\n",
    "    plt.show()\n",
    "    \n",
    "    # Compute predicted probabilities: y_pred_prob\n",
    "    y_pred_prob = model_name.predict_proba(X_test)[:,1]\n",
    "\n",
    "    # Generate ROC curve values: fpr, tpr, thresholds\n",
    "    fpr, tpr, thresholds = roc_curve(y_test, y_pred_prob)\n",
    "\n",
    "    # Plot ROC curve\n",
    "    fig, ax = plt.subplots(figsize=[8,6])\n",
    "    plt.plot([0, 1], [0, 1], 'k--')\n",
    "    plt.plot(fpr, tpr)\n",
    "    plt.xlabel('False Positive Rate')\n",
    "    plt.ylabel('True Positive Rate')\n",
    "    plt.title('ROC Curve ({})'.format(model_name_text), fontsize = 20)\n",
    "    plt.show()"
   ]
  },
  {
   "cell_type": "markdown",
   "id": "10bf2c04",
   "metadata": {},
   "source": [
    "### 2.2 Logistic Regression<a class=\"anchor\" id=\"section2.2\"></a>"
   ]
  },
  {
   "cell_type": "markdown",
   "id": "711135c5",
   "metadata": {},
   "source": [
    "#### 2.2.1 Hyperparameter Tuning"
   ]
  },
  {
   "cell_type": "markdown",
   "id": "042b7c8f",
   "metadata": {},
   "source": [
    "Hyperparameters are tuned using 5-fold cross validation."
   ]
  },
  {
   "cell_type": "code",
   "execution_count": 8,
   "id": "a8b1daad",
   "metadata": {},
   "outputs": [
    {
     "name": "stdout",
     "output_type": "stream",
     "text": [
      "Tuned Parameters: {'C': 10, 'penalty': 'l1', 'solver': 'liblinear'}\n",
      "Best score is 0.6737011155502943\n"
     ]
    }
   ],
   "source": [
    "param_grid = {\n",
    "     'penalty' : ['l1', 'l2'],\n",
    "    'C' : [0.001, 0.1, 1, 5, 10, 20, 50], #default = 1\n",
    "    'solver' : ['liblinear']}\n",
    "\n",
    "# Instantiate the GridSearchCV object\n",
    "model = LogisticRegression()\n",
    "lr_cv = GridSearchCV(model, param_grid, cv=5)\n",
    "lr_cv.fit(X_train,y_train)\n",
    "\n",
    "# Print the tuned parameters and score\n",
    "print(\"Tuned Parameters: {}\".format(lr_cv.best_params_)) \n",
    "print(\"Best score is {}\".format(lr_cv.best_score_))"
   ]
  },
  {
   "cell_type": "markdown",
   "id": "786b5f70",
   "metadata": {},
   "source": [
    "#### 2.2.2 Train Model & Inspect Performance on Test Set"
   ]
  },
  {
   "cell_type": "markdown",
   "id": "7fad33f2",
   "metadata": {},
   "source": [
    "Pass the best parameters into Logistic Regression model and obtain test score. "
   ]
  },
  {
   "cell_type": "code",
   "execution_count": 9,
   "id": "d4ce470b",
   "metadata": {},
   "outputs": [
    {
     "name": "stdout",
     "output_type": "stream",
     "text": [
      "Test Set Metrics\n",
      "Logistic Regression Plain Accuracy:67.19%\n",
      "TPR:51.46%\n",
      "FNR:48.54%\n",
      "TNR:78.56%\n",
      "FPR:21.44%\n",
      "Recall:51.46%\n",
      "Precision:63.44%\n",
      "AUC Score:0.65\n",
      "\n",
      "Train Set Metrics\n",
      "Logistic Regression Plain Accuracy:67.42%\n",
      "Recall:52.53%\n",
      "Precision:63.49%\n",
      "AUC Score:0.654\n"
     ]
    },
    {
     "data": {
      "image/png": "[encoded data removed]",
      "text/plain": [
       "<Figure size 432x288 with 2 Axes>"
      ]
     },
     "metadata": {
      "needs_background": "light"
     },
     "output_type": "display_data"
    },
    {
     "data": {
      "image/png": "[encoded data removed]",
      "text/plain": [
       "<Figure size 576x432 with 1 Axes>"
      ]
     },
     "metadata": {
      "needs_background": "light"
     },
     "output_type": "display_data"
    }
   ],
   "source": [
    "logreg = LogisticRegression(C = 10, penalty = 'l1', solver = 'liblinear')\n",
    "logreg.fit(X_train, y_train)\n",
    "\n",
    "classification_summary(X_train = X_train, \n",
    "                       X_test = X_test,\n",
    "                       y_train = y_train, \n",
    "                       y_test = y_test, \n",
    "                       model_name = logreg, \n",
    "                       model_name_text = 'Logistic Regression')"
   ]
  },
  {
   "cell_type": "markdown",
   "id": "ea18d9d6",
   "metadata": {},
   "source": [
    "### 2.3 Support Vector Machine<a class=\"anchor\" id=\"section2.3\"></a>"
   ]
  },
  {
   "cell_type": "markdown",
   "id": "25df2c43",
   "metadata": {},
   "source": [
    "#### 2.3.1 Perform Feature Scaling\n",
    "\n",
    "Features must first be scaled because having inconsistent scales for different features distorts the closeness of each observation, with some features having more influence than others.\n",
    "\n",
    "- Binary variables are not scaled\n",
    "- After scaling, scaled variables have mean of 0 and standard deviation of 1"
   ]
  },
  {
   "cell_type": "code",
   "execution_count": 10,
   "id": "4f3315c7",
   "metadata": {},
   "outputs": [
    {
     "data": {
      "text/html": [
       "<div>\n",
       "<style scoped>\n",
       "    .dataframe tbody tr th:only-of-type {\n",
       "        vertical-align: middle;\n",
       "    }\n",
       "\n",
       "    .dataframe tbody tr th {\n",
       "        vertical-align: top;\n",
       "    }\n",
       "\n",
       "    .dataframe thead th {\n",
       "        text-align: right;\n",
       "    }\n",
       "</style>\n",
       "<table border=\"1\" class=\"dataframe\">\n",
       "  <thead>\n",
       "    <tr style=\"text-align: right;\">\n",
       "      <th></th>\n",
       "      <th>count</th>\n",
       "      <th>mean</th>\n",
       "      <th>std</th>\n",
       "      <th>min</th>\n",
       "      <th>25%</th>\n",
       "      <th>50%</th>\n",
       "      <th>75%</th>\n",
       "      <th>max</th>\n",
       "    </tr>\n",
       "  </thead>\n",
       "  <tbody>\n",
       "    <tr>\n",
       "      <th>age</th>\n",
       "      <td>34876.0</td>\n",
       "      <td>-0.00</td>\n",
       "      <td>1.00</td>\n",
       "      <td>-2.17</td>\n",
       "      <td>-0.67</td>\n",
       "      <td>0.08</td>\n",
       "      <td>0.76</td>\n",
       "      <td>1.89</td>\n",
       "    </tr>\n",
       "    <tr>\n",
       "      <th>income</th>\n",
       "      <td>34876.0</td>\n",
       "      <td>0.00</td>\n",
       "      <td>1.00</td>\n",
       "      <td>-1.63</td>\n",
       "      <td>-0.75</td>\n",
       "      <td>-0.10</td>\n",
       "      <td>0.64</td>\n",
       "      <td>2.53</td>\n",
       "    </tr>\n",
       "    <tr>\n",
       "      <th>member_duration</th>\n",
       "      <td>34876.0</td>\n",
       "      <td>-0.00</td>\n",
       "      <td>1.00</td>\n",
       "      <td>-1.24</td>\n",
       "      <td>-0.75</td>\n",
       "      <td>-0.40</td>\n",
       "      <td>0.66</td>\n",
       "      <td>3.10</td>\n",
       "    </tr>\n",
       "    <tr>\n",
       "      <th>reward</th>\n",
       "      <td>34876.0</td>\n",
       "      <td>0.00</td>\n",
       "      <td>1.00</td>\n",
       "      <td>-1.09</td>\n",
       "      <td>-1.09</td>\n",
       "      <td>-0.08</td>\n",
       "      <td>1.58</td>\n",
       "      <td>1.58</td>\n",
       "    </tr>\n",
       "    <tr>\n",
       "      <th>difficulty</th>\n",
       "      <td>34876.0</td>\n",
       "      <td>0.00</td>\n",
       "      <td>1.00</td>\n",
       "      <td>-1.05</td>\n",
       "      <td>-0.60</td>\n",
       "      <td>0.08</td>\n",
       "      <td>0.08</td>\n",
       "      <td>2.34</td>\n",
       "    </tr>\n",
       "    <tr>\n",
       "      <th>days</th>\n",
       "      <td>34876.0</td>\n",
       "      <td>0.00</td>\n",
       "      <td>1.00</td>\n",
       "      <td>-1.89</td>\n",
       "      <td>-0.89</td>\n",
       "      <td>0.19</td>\n",
       "      <td>0.82</td>\n",
       "      <td>1.69</td>\n",
       "    </tr>\n",
       "    <tr>\n",
       "      <th>channel_web</th>\n",
       "      <td>34876.0</td>\n",
       "      <td>0.87</td>\n",
       "      <td>0.33</td>\n",
       "      <td>0.00</td>\n",
       "      <td>1.00</td>\n",
       "      <td>1.00</td>\n",
       "      <td>1.00</td>\n",
       "      <td>1.00</td>\n",
       "    </tr>\n",
       "    <tr>\n",
       "      <th>channel_mobile</th>\n",
       "      <td>34876.0</td>\n",
       "      <td>0.88</td>\n",
       "      <td>0.33</td>\n",
       "      <td>0.00</td>\n",
       "      <td>1.00</td>\n",
       "      <td>1.00</td>\n",
       "      <td>1.00</td>\n",
       "      <td>1.00</td>\n",
       "    </tr>\n",
       "    <tr>\n",
       "      <th>channel_social</th>\n",
       "      <td>34876.0</td>\n",
       "      <td>0.63</td>\n",
       "      <td>0.48</td>\n",
       "      <td>0.00</td>\n",
       "      <td>0.00</td>\n",
       "      <td>1.00</td>\n",
       "      <td>1.00</td>\n",
       "      <td>1.00</td>\n",
       "    </tr>\n",
       "    <tr>\n",
       "      <th>gender_dum_M</th>\n",
       "      <td>34876.0</td>\n",
       "      <td>0.59</td>\n",
       "      <td>0.49</td>\n",
       "      <td>0.00</td>\n",
       "      <td>0.00</td>\n",
       "      <td>1.00</td>\n",
       "      <td>1.00</td>\n",
       "      <td>1.00</td>\n",
       "    </tr>\n",
       "    <tr>\n",
       "      <th>offer_type_dum_discount</th>\n",
       "      <td>34876.0</td>\n",
       "      <td>0.50</td>\n",
       "      <td>0.50</td>\n",
       "      <td>0.00</td>\n",
       "      <td>0.00</td>\n",
       "      <td>1.00</td>\n",
       "      <td>1.00</td>\n",
       "      <td>1.00</td>\n",
       "    </tr>\n",
       "  </tbody>\n",
       "</table>\n",
       "</div>"
      ],
      "text/plain": [
       "                           count  mean   std   min   25%   50%   75%   max\n",
       "age                      34876.0 -0.00  1.00 -2.17 -0.67  0.08  0.76  1.89\n",
       "income                   34876.0  0.00  1.00 -1.63 -0.75 -0.10  0.64  2.53\n",
       "member_duration          34876.0 -0.00  1.00 -1.24 -0.75 -0.40  0.66  3.10\n",
       "reward                   34876.0  0.00  1.00 -1.09 -1.09 -0.08  1.58  1.58\n",
       "difficulty               34876.0  0.00  1.00 -1.05 -0.60  0.08  0.08  2.34\n",
       "days                     34876.0  0.00  1.00 -1.89 -0.89  0.19  0.82  1.69\n",
       "channel_web              34876.0  0.87  0.33  0.00  1.00  1.00  1.00  1.00\n",
       "channel_mobile           34876.0  0.88  0.33  0.00  1.00  1.00  1.00  1.00\n",
       "channel_social           34876.0  0.63  0.48  0.00  0.00  1.00  1.00  1.00\n",
       "gender_dum_M             34876.0  0.59  0.49  0.00  0.00  1.00  1.00  1.00\n",
       "offer_type_dum_discount  34876.0  0.50  0.50  0.00  0.00  1.00  1.00  1.00"
      ]
     },
     "execution_count": 10,
     "metadata": {},
     "output_type": "execute_result"
    }
   ],
   "source": [
    "# Create a ColumnTransformer helper\n",
    "scale_cols = ['age', 'income', 'member_duration', 'reward', 'difficulty', 'days']\n",
    "ct = ColumnTransformer([('transformer', StandardScaler(), scale_cols)], \n",
    "                       remainder='passthrough')\n",
    "\n",
    "\n",
    "# Scale the Train Set and check summary statistics\n",
    "X_train_scaled = X_train.copy()\n",
    "X_train_scaled = pd.DataFrame(ct.fit_transform(X_train_scaled), \n",
    "                              columns = features) # features used to define X_train\n",
    "X_train_scaled.describe().transpose().round(2)"
   ]
  },
  {
   "cell_type": "code",
   "execution_count": 11,
   "id": "23421e48",
   "metadata": {},
   "outputs": [
    {
     "data": {
      "text/html": [
       "<div>\n",
       "<style scoped>\n",
       "    .dataframe tbody tr th:only-of-type {\n",
       "        vertical-align: middle;\n",
       "    }\n",
       "\n",
       "    .dataframe tbody tr th {\n",
       "        vertical-align: top;\n",
       "    }\n",
       "\n",
       "    .dataframe thead th {\n",
       "        text-align: right;\n",
       "    }\n",
       "</style>\n",
       "<table border=\"1\" class=\"dataframe\">\n",
       "  <thead>\n",
       "    <tr style=\"text-align: right;\">\n",
       "      <th></th>\n",
       "      <th>count</th>\n",
       "      <th>mean</th>\n",
       "      <th>std</th>\n",
       "      <th>min</th>\n",
       "      <th>25%</th>\n",
       "      <th>50%</th>\n",
       "      <th>75%</th>\n",
       "      <th>max</th>\n",
       "    </tr>\n",
       "  </thead>\n",
       "  <tbody>\n",
       "    <tr>\n",
       "      <th>age</th>\n",
       "      <td>14948.0</td>\n",
       "      <td>0.00</td>\n",
       "      <td>1.00</td>\n",
       "      <td>-2.16</td>\n",
       "      <td>-0.73</td>\n",
       "      <td>0.09</td>\n",
       "      <td>0.77</td>\n",
       "      <td>1.90</td>\n",
       "    </tr>\n",
       "    <tr>\n",
       "      <th>income</th>\n",
       "      <td>14948.0</td>\n",
       "      <td>-0.00</td>\n",
       "      <td>1.00</td>\n",
       "      <td>-1.63</td>\n",
       "      <td>-0.75</td>\n",
       "      <td>-0.10</td>\n",
       "      <td>0.65</td>\n",
       "      <td>2.56</td>\n",
       "    </tr>\n",
       "    <tr>\n",
       "      <th>member_duration</th>\n",
       "      <td>14948.0</td>\n",
       "      <td>-0.00</td>\n",
       "      <td>1.00</td>\n",
       "      <td>-1.24</td>\n",
       "      <td>-0.75</td>\n",
       "      <td>-0.39</td>\n",
       "      <td>0.65</td>\n",
       "      <td>3.07</td>\n",
       "    </tr>\n",
       "    <tr>\n",
       "      <th>reward</th>\n",
       "      <td>14948.0</td>\n",
       "      <td>-0.00</td>\n",
       "      <td>1.00</td>\n",
       "      <td>-1.09</td>\n",
       "      <td>-0.76</td>\n",
       "      <td>-0.08</td>\n",
       "      <td>-0.08</td>\n",
       "      <td>1.61</td>\n",
       "    </tr>\n",
       "    <tr>\n",
       "      <th>difficulty</th>\n",
       "      <td>14948.0</td>\n",
       "      <td>0.00</td>\n",
       "      <td>1.00</td>\n",
       "      <td>-1.03</td>\n",
       "      <td>-1.03</td>\n",
       "      <td>0.08</td>\n",
       "      <td>0.08</td>\n",
       "      <td>2.30</td>\n",
       "    </tr>\n",
       "    <tr>\n",
       "      <th>days</th>\n",
       "      <td>14948.0</td>\n",
       "      <td>-0.00</td>\n",
       "      <td>1.00</td>\n",
       "      <td>-1.91</td>\n",
       "      <td>-0.88</td>\n",
       "      <td>0.18</td>\n",
       "      <td>0.85</td>\n",
       "      <td>1.70</td>\n",
       "    </tr>\n",
       "    <tr>\n",
       "      <th>channel_web</th>\n",
       "      <td>14948.0</td>\n",
       "      <td>0.87</td>\n",
       "      <td>0.33</td>\n",
       "      <td>0.00</td>\n",
       "      <td>1.00</td>\n",
       "      <td>1.00</td>\n",
       "      <td>1.00</td>\n",
       "      <td>1.00</td>\n",
       "    </tr>\n",
       "    <tr>\n",
       "      <th>channel_mobile</th>\n",
       "      <td>14948.0</td>\n",
       "      <td>0.87</td>\n",
       "      <td>0.34</td>\n",
       "      <td>0.00</td>\n",
       "      <td>1.00</td>\n",
       "      <td>1.00</td>\n",
       "      <td>1.00</td>\n",
       "      <td>1.00</td>\n",
       "    </tr>\n",
       "    <tr>\n",
       "      <th>channel_social</th>\n",
       "      <td>14948.0</td>\n",
       "      <td>0.62</td>\n",
       "      <td>0.49</td>\n",
       "      <td>0.00</td>\n",
       "      <td>0.00</td>\n",
       "      <td>1.00</td>\n",
       "      <td>1.00</td>\n",
       "      <td>1.00</td>\n",
       "    </tr>\n",
       "    <tr>\n",
       "      <th>gender_dum_M</th>\n",
       "      <td>14948.0</td>\n",
       "      <td>0.59</td>\n",
       "      <td>0.49</td>\n",
       "      <td>0.00</td>\n",
       "      <td>0.00</td>\n",
       "      <td>1.00</td>\n",
       "      <td>1.00</td>\n",
       "      <td>1.00</td>\n",
       "    </tr>\n",
       "    <tr>\n",
       "      <th>offer_type_dum_discount</th>\n",
       "      <td>14948.0</td>\n",
       "      <td>0.50</td>\n",
       "      <td>0.50</td>\n",
       "      <td>0.00</td>\n",
       "      <td>0.00</td>\n",
       "      <td>1.00</td>\n",
       "      <td>1.00</td>\n",
       "      <td>1.00</td>\n",
       "    </tr>\n",
       "  </tbody>\n",
       "</table>\n",
       "</div>"
      ],
      "text/plain": [
       "                           count  mean   std   min   25%   50%   75%   max\n",
       "age                      14948.0  0.00  1.00 -2.16 -0.73  0.09  0.77  1.90\n",
       "income                   14948.0 -0.00  1.00 -1.63 -0.75 -0.10  0.65  2.56\n",
       "member_duration          14948.0 -0.00  1.00 -1.24 -0.75 -0.39  0.65  3.07\n",
       "reward                   14948.0 -0.00  1.00 -1.09 -0.76 -0.08 -0.08  1.61\n",
       "difficulty               14948.0  0.00  1.00 -1.03 -1.03  0.08  0.08  2.30\n",
       "days                     14948.0 -0.00  1.00 -1.91 -0.88  0.18  0.85  1.70\n",
       "channel_web              14948.0  0.87  0.33  0.00  1.00  1.00  1.00  1.00\n",
       "channel_mobile           14948.0  0.87  0.34  0.00  1.00  1.00  1.00  1.00\n",
       "channel_social           14948.0  0.62  0.49  0.00  0.00  1.00  1.00  1.00\n",
       "gender_dum_M             14948.0  0.59  0.49  0.00  0.00  1.00  1.00  1.00\n",
       "offer_type_dum_discount  14948.0  0.50  0.50  0.00  0.00  1.00  1.00  1.00"
      ]
     },
     "execution_count": 11,
     "metadata": {},
     "output_type": "execute_result"
    }
   ],
   "source": [
    "# Scale the Test Set and check summary statistics\n",
    "X_test_scaled = X_test.copy()\n",
    "X_test_scaled = pd.DataFrame(ct.fit_transform(X_test_scaled), columns = features)\n",
    "X_test_scaled.describe().transpose().round(2)"
   ]
  },
  {
   "cell_type": "markdown",
   "id": "a0a64060",
   "metadata": {},
   "source": [
    "#### 2.3.2 Hyperparameter Tuning"
   ]
  },
  {
   "cell_type": "markdown",
   "id": "4ecec24d",
   "metadata": {},
   "source": [
    "Hyperparameters are tuned using 5-fold cross validation."
   ]
  },
  {
   "cell_type": "code",
   "execution_count": 12,
   "id": "b4286554",
   "metadata": {},
   "outputs": [
    {
     "name": "stdout",
     "output_type": "stream",
     "text": [
      "Tuned Parameters: {'C': 10, 'kernel': 'rbf'}\n",
      "Best score is 0.7048686700535991\n"
     ]
    }
   ],
   "source": [
    "# Kernel to be tuned in the following\n",
    "C = [0.1, 1, 10, 50]\n",
    "kernel = ['poly','rbf','sigmoid']\n",
    "\n",
    "param_grid = {'C': C, #default = 1\n",
    "              'kernel': kernel} #default = RBF\n",
    "\n",
    "# Instantiate the GridSearchCV object\n",
    "model = SVC(random_state = 42) # default kernel = rbf\n",
    "cv = GridSearchCV(model, param_grid, cv=5, n_jobs = -1)\n",
    "cv.fit(X_train_scaled,y_train)\n",
    "\n",
    "# Print the tuned parameters and score\n",
    "print(\"Tuned Parameters: {}\".format(cv.best_params_)) \n",
    "print(\"Best score is {}\".format(cv.best_score_))"
   ]
  },
  {
   "cell_type": "markdown",
   "id": "93901619",
   "metadata": {},
   "source": [
    "#### 2.3.3 Train Model & Inspect Performance on Test Set"
   ]
  },
  {
   "cell_type": "markdown",
   "id": "2231b433",
   "metadata": {},
   "source": [
    "Pass the best parameters into Support Vector Classifier and obtain test score. "
   ]
  },
  {
   "cell_type": "code",
   "execution_count": 13,
   "id": "89993755",
   "metadata": {},
   "outputs": [
    {
     "name": "stdout",
     "output_type": "stream",
     "text": [
      "Test Set Metrics\n",
      "Support Vector Machine Plain Accuracy:70.23%\n",
      "TPR:54.49%\n",
      "FNR:45.51%\n",
      "TNR:81.61%\n",
      "FPR:18.39%\n",
      "Recall:54.49%\n",
      "Precision:68.16%\n",
      "AUC Score:0.68\n",
      "\n",
      "Train Set Metrics\n",
      "Support Vector Machine Plain Accuracy:71.21%\n",
      "Recall:56.06%\n",
      "Precision:69.43%\n",
      "AUC Score:0.691\n"
     ]
    },
    {
     "data": {
      "image/png": "[encoded data removed]",
      "text/plain": [
       "<Figure size 432x288 with 2 Axes>"
      ]
     },
     "metadata": {
      "needs_background": "light"
     },
     "output_type": "display_data"
    },
    {
     "data": {
      "image/png": "[encoded data removed]",
      "text/plain": [
       "<Figure size 576x432 with 1 Axes>"
      ]
     },
     "metadata": {
      "needs_background": "light"
     },
     "output_type": "display_data"
    }
   ],
   "source": [
    "svm = SVC(probability = True, C = 10, gamma = 'scale', kernel = 'rbf')\n",
    "svm.fit(X_train_scaled, y_train)\n",
    "\n",
    "classification_summary(X_train = X_train_scaled, \n",
    "                       X_test = X_test_scaled,\n",
    "                       y_train = y_train, \n",
    "                       y_test = y_test, \n",
    "                       model_name = svm, \n",
    "                       model_name_text = 'Support Vector Machine')"
   ]
  },
  {
   "cell_type": "markdown",
   "id": "05d9b7ad",
   "metadata": {},
   "source": [
    "### 2.4 Random Forest Classifier<a class=\"anchor\" id=\"section2.4\"></a>"
   ]
  },
  {
   "cell_type": "markdown",
   "id": "5ac15cd1",
   "metadata": {},
   "source": [
    "#### 2.4.1 Hyperparameter Tuning"
   ]
  },
  {
   "cell_type": "markdown",
   "id": "d372de65",
   "metadata": {},
   "source": [
    "Hyperparameters are tuned using 5-fold cross validation. Due to time constraints, parameters are tuned in two steps rather than in 1 go. Random Search CV can also be used."
   ]
  },
  {
   "cell_type": "code",
   "execution_count": 14,
   "id": "5c19ea5d",
   "metadata": {},
   "outputs": [
    {
     "name": "stdout",
     "output_type": "stream",
     "text": [
      "Tuned Parameters: {'min_samples_leaf': 5, 'n_estimators': 500}\n",
      "Best score is 0.7249112697708067\n"
     ]
    }
   ],
   "source": [
    "# Number of trees in ensemble, default = 100\n",
    "n_estimators = [100, 300, 500, 1000]\n",
    "\n",
    "# Min samples in leaf, default = 1\n",
    "min_samples_leaf = [1, 5, 25, 50]\n",
    "param_grid = {'n_estimators': n_estimators,\n",
    "             'min_samples_leaf': min_samples_leaf }\n",
    "\n",
    "# Instantiate the GridSearchCV object\n",
    "model = RandomForestClassifier(oob_score = True, n_jobs = -1, random_state =42)\n",
    "rfc_cv = GridSearchCV(model, param_grid, cv=5)\n",
    "rfc_cv.fit(X_train,y_train)\n",
    "\n",
    "# Print the tuned parameters and score\n",
    "print(\"Tuned Parameters: {}\".format(rfc_cv.best_params_)) \n",
    "print(\"Best score is {}\".format(rfc_cv.best_score_))"
   ]
  },
  {
   "cell_type": "code",
   "execution_count": 15,
   "id": "72ba6a33",
   "metadata": {},
   "outputs": [
    {
     "name": "stdout",
     "output_type": "stream",
     "text": [
      "Tuned Parameters: {'max_depth': 15, 'min_samples_split': 25}\n",
      "Best score is 0.7243951571799678\n"
     ]
    }
   ],
   "source": [
    "# Fix min_samples_leaf and n_estimators and tune others\n",
    "max_depth = [1, 3, 6, 10, 15] #default = 0\n",
    "min_samples_split = [25, 100, 150, 200] #default = 2\n",
    "\n",
    "model = RandomForestClassifier(oob_score = True, \n",
    "                               n_jobs = -1, \n",
    "                               random_state = 42,\n",
    "                              min_samples_leaf = 5,\n",
    "                              n_estimators = 500)\n",
    "\n",
    "param_grid = {'max_depth': max_depth, #default is 6\n",
    "             'min_samples_split': min_samples_split, #default is 100\n",
    "             }\n",
    "\n",
    "rfc_cv = GridSearchCV(model, param_grid, cv=5)\n",
    "rfc_cv.fit(X_train,y_train)\n",
    "\n",
    "# Print the tuned parameters and score\n",
    "print(\"Tuned Parameters: {}\".format(rfc_cv.best_params_)) \n",
    "print(\"Best score is {}\".format(rfc_cv.best_score_))"
   ]
  },
  {
   "cell_type": "markdown",
   "id": "5cf080b5",
   "metadata": {},
   "source": [
    "#### 2.4.2 Train Model & Inspect Performance on Test Set"
   ]
  },
  {
   "cell_type": "markdown",
   "id": "0be60e87",
   "metadata": {},
   "source": [
    "Pass the best parameters into Random Forest Classifier and obtain test score. "
   ]
  },
  {
   "cell_type": "code",
   "execution_count": 16,
   "id": "258e8a11",
   "metadata": {},
   "outputs": [
    {
     "name": "stdout",
     "output_type": "stream",
     "text": [
      "Test Set Metrics\n",
      "Random Forest Plain Accuracy:72.78%\n",
      "TPR:60.74%\n",
      "FNR:39.26%\n",
      "TNR:81.48%\n",
      "FPR:18.52%\n",
      "Recall:60.74%\n",
      "Precision:70.33%\n",
      "AUC Score:0.711\n",
      "\n",
      "Train Set Metrics\n",
      "Random Forest Plain Accuracy:78.98%\n",
      "Recall:69.08%\n",
      "Precision:78.26%\n",
      "AUC Score:0.776\n"
     ]
    },
    {
     "data": {
      "image/png": "[encoded data removed]",
      "text/plain": [
       "<Figure size 432x288 with 2 Axes>"
      ]
     },
     "metadata": {
      "needs_background": "light"
     },
     "output_type": "display_data"
    },
    {
     "data": {
      "image/png": "[encoded data removed]",
      "text/plain": [
       "<Figure size 576x432 with 1 Axes>"
      ]
     },
     "metadata": {
      "needs_background": "light"
     },
     "output_type": "display_data"
    }
   ],
   "source": [
    "# p (number of features) is set at default as there is little difference in the various methods\n",
    "\n",
    "rfc = RandomForestClassifier(random_state = 42, \n",
    "                             max_features = 'sqrt', \n",
    "                             min_samples_leaf = 5, \n",
    "                             n_estimators = 500,\n",
    "                            max_depth = 15,\n",
    "                            min_samples_split = 25)\n",
    "rfc.fit(X_train, y_train)\n",
    "\n",
    "classification_summary(X_train = X_train, \n",
    "                       X_test = X_test,\n",
    "                       y_train = y_train, \n",
    "                       y_test = y_test, \n",
    "                       model_name = rfc, \n",
    "                       model_name_text = 'Random Forest')"
   ]
  },
  {
   "cell_type": "markdown",
   "id": "fb7a1692",
   "metadata": {},
   "source": [
    "### 2.5 XGBoost Classifier<a class=\"anchor\" id=\"section2.5\"></a>"
   ]
  },
  {
   "cell_type": "markdown",
   "id": "70a08346",
   "metadata": {},
   "source": [
    "#### 2.5.1 Hyperparameter Tuning"
   ]
  },
  {
   "cell_type": "markdown",
   "id": "ab37b8cb",
   "metadata": {},
   "source": [
    "Hyperparameters are tuned using 5-fold cross validation. Due to time constraints, parameters are tuned in two steps rather than in 1 go. Random Search CV can also be used."
   ]
  },
  {
   "cell_type": "code",
   "execution_count": 17,
   "id": "eccb219b",
   "metadata": {},
   "outputs": [
    {
     "name": "stdout",
     "output_type": "stream",
     "text": [
      "Tuned Parameters: {'max_depth': 3, 'n_estimators': 100}\n",
      "Best score is 0.7461577554174477\n"
     ]
    }
   ],
   "source": [
    "max_depth = [3, 6, 10]\n",
    "n_estimators = [100, 300, 500]\n",
    "\n",
    "param_grid = {'max_depth': max_depth, #default is 6\n",
    "             'n_estimators': n_estimators, #default is 100\n",
    "             }\n",
    "\n",
    "# Instantiate the GridSearchCV object\n",
    "model = XGBClassifier(use_label_encoder=False, random_state = 42, \n",
    "                      eval_metric='auc',\n",
    "                     objective = 'binary:logistic')\n",
    "\n",
    "cv = GridSearchCV(model, param_grid, cv=5, n_jobs = -1)\n",
    "cv.fit(X_train,y_train)\n",
    "\n",
    "# Print the tuned parameters and score\n",
    "print(\"Tuned Parameters: {}\".format(cv.best_params_)) \n",
    "print(\"Best score is {}\".format(cv.best_score_))"
   ]
  },
  {
   "cell_type": "code",
   "execution_count": 18,
   "id": "84b26a59",
   "metadata": {},
   "outputs": [
    {
     "name": "stdout",
     "output_type": "stream",
     "text": [
      "Tuned Parameters: {'colsample_bytree': 0.7, 'gamma': 0.1}\n",
      "Best score is 0.7484230377166157\n"
     ]
    }
   ],
   "source": [
    "# Fix max_depth and n_estimators and tune others\n",
    "colsample_bytree = [0.1, 0.3, 0.7, 1] #default = 0.3\n",
    "gamma = [0.1, 0.3, 0.7, 1] #default = 0\n",
    "\n",
    "param_grid = {'colsample_bytree': colsample_bytree, #default is 6\n",
    "             'gamma': gamma, #default is 100\n",
    "             }\n",
    "\n",
    "# Instantiate the GridSearchCV object\n",
    "model = XGBClassifier(use_label_encoder=False, random_state = 42, \n",
    "                      eval_metric='auc',\n",
    "                     objective = 'binary:logistic',\n",
    "                     max_depth = 3,\n",
    "                     n_estimators = 100)\n",
    "\n",
    "cv = GridSearchCV(model, param_grid, cv=5, n_jobs = -1)\n",
    "cv.fit(X_train,y_train)\n",
    "\n",
    "# Print the tuned parameters and score\n",
    "print(\"Tuned Parameters: {}\".format(cv.best_params_)) \n",
    "print(\"Best score is {}\".format(cv.best_score_))"
   ]
  },
  {
   "cell_type": "markdown",
   "id": "d676f3af",
   "metadata": {},
   "source": [
    "#### 2.5.2 Train Model & Inspect Performance on Test Set"
   ]
  },
  {
   "cell_type": "markdown",
   "id": "9330fc60",
   "metadata": {},
   "source": [
    "Pass the best parameters into XGBoost and obtain test score. "
   ]
  },
  {
   "cell_type": "code",
   "execution_count": 19,
   "id": "6cc24e0e",
   "metadata": {},
   "outputs": [
    {
     "name": "stdout",
     "output_type": "stream",
     "text": [
      "Test Set Metrics\n",
      "XGBoost Plain Accuracy:74.92%\n",
      "TPR:68.67%\n",
      "FNR:31.33%\n",
      "TNR:79.44%\n",
      "FPR:20.56%\n",
      "Recall:68.67%\n",
      "Precision:70.71%\n",
      "AUC Score:0.741\n",
      "\n",
      "Train Set Metrics\n",
      "XGBoost Plain Accuracy:75.93%\n",
      "Recall:69.35%\n",
      "Precision:72.18%\n",
      "AUC Score:0.75\n"
     ]
    },
    {
     "data": {
      "image/png": "[encoded data removed]",
      "text/plain": [
       "<Figure size 432x288 with 2 Axes>"
      ]
     },
     "metadata": {
      "needs_background": "light"
     },
     "output_type": "display_data"
    },
    {
     "data": {
      "image/png": "[encoded data removed]",
      "text/plain": [
       "<Figure size 576x432 with 1 Axes>"
      ]
     },
     "metadata": {
      "needs_background": "light"
     },
     "output_type": "display_data"
    }
   ],
   "source": [
    "xgb = XGBClassifier(use_label_encoder=False, random_state = 42, \n",
    "                    eval_metric='auc',\n",
    "                    objective = 'binary:logistic',\n",
    "                    max_depth = 3,\n",
    "                    n_estimators = 100, \n",
    "                    colsample_bytree = 0.7, \n",
    "                    gamma = 0.1)\n",
    "\n",
    "xgb.fit(X_train, y_train)\n",
    "\n",
    "classification_summary(X_train = X_train, \n",
    "                       X_test = X_test,\n",
    "                       y_train = y_train, \n",
    "                       y_test = y_test, \n",
    "                       model_name = xgb, \n",
    "                       model_name_text = 'XGBoost')"
   ]
  },
  {
   "cell_type": "markdown",
   "id": "dc574886",
   "metadata": {},
   "source": [
    "### 2.6 Classifier Evaluation & Selection<a class=\"anchor\" id=\"section2.6\"></a>"
   ]
  },
  {
   "attachments": {},
   "cell_type": "markdown",
   "id": "c3e18fec",
   "metadata": {},
   "source": [
    "#### Best Performance: XGBoost Classifier\n",
    "\n",
    "Overall, we should proceeed with XGBoost Classifier to predict offer redemption given as it has the highest precision, recall, AUC and accuracy by a long shot.\n",
    "\n",
    "<b>Key Observations</b>\n",
    "\n",
    "- From the Exploratory Data Analysis (EDA) is known that only 42% of all offers sent out are successfully seen & completed\n",
    "- XGBoost (and arguable any classifier) will be able to improve upon this significantly, to 71%, represeting <b>+29% improvement</b> (from the precision metric) \n",
    "- Logistic Regression generally performed the worst, strongly suggesting that a linear decision boundary may not be the best fit for offer sucess. \n",
    "\n",
    "Each classifiers' performance is summarised below, with best performance in green and worst in red. Test Set metrics are what are used for evaluation and Train Set is included for reference only.\n",
    "\n",
    "<img src = \"./images/classifier_results.png\" width=\"600\"/>\n",
    "\n",
    "The ROC Curve further reinforces this as Random Forest and XGBoost visibly have the maximum area under curve (AUC).\n",
    "\n"
   ]
  },
  {
   "cell_type": "code",
   "execution_count": 20,
   "id": "90bbb4d5",
   "metadata": {},
   "outputs": [
    {
     "data": {
      "text/plain": [
       "<Figure size 432x288 with 0 Axes>"
      ]
     },
     "metadata": {},
     "output_type": "display_data"
    },
    {
     "data": {
      "image/png": "[encoded data removed]",
      "text/plain": [
       "<Figure size 576x432 with 1 Axes>"
      ]
     },
     "metadata": {
      "needs_background": "light"
     },
     "output_type": "display_data"
    }
   ],
   "source": [
    "dict_classifiers = {\n",
    "    \"Logistic Regression\": logreg,\n",
    "    \"SVM\": svm,\n",
    "    \"RandomForest\": rfc,\n",
    "    \"XGBoost\": xgb\n",
    "}\n",
    "\n",
    "plt.clf()\n",
    "\n",
    "fig, ax = plt.subplots(figsize=[8,6])\n",
    "plt.plot([0, 1], [0, 1], 'k--')\n",
    "plt.title('ROC Curve', fontsize = 20)\n",
    "plt.xlabel('False Positive Rate')\n",
    "plt.ylabel('True Positive Rate')\n",
    "\n",
    "lines = []\n",
    "\n",
    "for i, (model, model_instantiation) in enumerate(dict_classifiers.items()):\n",
    "    # Compute predicted probabilities: y_pred_prob\n",
    "    \n",
    "    if model == 'SVM':\n",
    "        y_pred_prob = model_instantiation.predict_proba(X_test_scaled)[:,1]\n",
    "    \n",
    "    else:\n",
    "        y_pred_prob = model_instantiation.predict_proba(X_test)[:,1]\n",
    "\n",
    "    # Generate ROC curve values: fpr, tpr, thresholds\n",
    "    fpr, tpr, thresholds = roc_curve(y_test, y_pred_prob)\n",
    "    \n",
    "    # Plot ROC curve\n",
    "    # plt.plot(fpr, tpr)\n",
    "    lines += plt.plot(fpr,tpr, label=\"{}\".format(model))\n",
    "\n",
    "# Create manual labelling\n",
    "labels = [l.get_label() for l in lines]\n",
    "plt.legend(lines, labels)\n",
    "plt.show()"
   ]
  },
  {
   "cell_type": "markdown",
   "id": "7541c409",
   "metadata": {},
   "source": [
    "### 2.7 Findings: The Most Important Features Predicting Offer Success<a class=\"anchor\" id=\"section2.7\"></a>"
   ]
  },
  {
   "attachments": {},
   "cell_type": "markdown",
   "id": "95374607",
   "metadata": {},
   "source": [
    "With opaque classifiers like XGBoost, it is useful to use <b>permutation feature imporance</b> to see which features are most impactful. \n",
    "\n",
    "In a nutshell, this metric tells us which features, if present, are most likely to result in a better classification outcome. Refer to sklearn's insightful summary on [permutation feature importance](https://scikit-learn.org/stable/modules/permutation_importance.html)."
   ]
  },
  {
   "cell_type": "code",
   "execution_count": 21,
   "id": "3fbe4b07",
   "metadata": {},
   "outputs": [
    {
     "data": {
      "image/png": "[encoded data removed]",
      "text/plain": [
       "<Figure size 576x432 with 1 Axes>"
      ]
     },
     "metadata": {
      "needs_background": "light"
     },
     "output_type": "display_data"
    }
   ],
   "source": [
    "result = permutation_importance(\n",
    "    xgb, X_test, y_test, n_repeats=10, random_state=42, n_jobs=-1\n",
    ")\n",
    "\n",
    "feature_names = [f\"{i}\" for i in X.columns]\n",
    "importances = result.importances_mean\n",
    "std = result.importances_std\n",
    "\n",
    "my_dict = {'feature_names': feature_names, 'feature_impt': importances, 'std': std}\n",
    "\n",
    "pi = pd.DataFrame.from_dict(my_dict)\n",
    "pi.sort_values(by = 'feature_impt', ascending = False, inplace = True)\n",
    "\n",
    "# Visualize feature importances\n",
    "fig, ax = plt.subplots(figsize=[8,6])\n",
    "plt.barh(y = pi['feature_names'], width = pi['feature_impt'], xerr=pi['std'])\n",
    "ax.set_title(\"Feature importances using permutation\", fontsize = 20)\n",
    "ax.set_xlabel(\"Mean accuracy decrease\")\n",
    "ax.invert_yaxis()  # labels read top-to-bottom\n",
    "fig.tight_layout()"
   ]
  },
  {
   "cell_type": "markdown",
   "id": "00f11442",
   "metadata": {},
   "source": [
    "#### The 3 Most Important Features Predicting Offer Completion\n",
    "\n",
    "We can clearly see that the top 3 most important factors in whether or not a promotion is redeemed are *days*, *member_duration* and *channel_social* (social media targeting).\n",
    "\n",
    "This is valuable information from a marketing perspective as one may reasonably conclude that:\n",
    "1. <b>Long-time members may be more likely to redeem promotions</b> and should be more heavily targeted, whereas members in other age groups may need to be engaged in other ways.\n",
    "2. <b>Sharing the promotion across social media is important</b>, suggesting that other distribution channels (website/ mobile app) were not so effective.\n",
    "\n",
    "As for the importance of *days*, this may be because offers are sent in bursts through the month. Hence, the closer the date is to those bursts, the higher likelihood of offer success. It may be that as time elapses without an offer completion, customers are more likely to have seen but are ignoring the offer. "
   ]
  },
  {
   "cell_type": "markdown",
   "id": "7086dc92",
   "metadata": {},
   "source": [
    "## 3. Predicting Amount Spent through Regression<a class=\"anchor\" id=\"section3\"></a>"
   ]
  },
  {
   "cell_type": "markdown",
   "id": "14753aca",
   "metadata": {},
   "source": [
    "#### Target Variable: *amount* (binary)\n",
    "\n",
    "In this section, we train and select a regressor that helps to predict amount spent <b>given offer success</b>. This will help to assign an expected spend value to each expected offer redemption.\n"
   ]
  },
  {
   "cell_type": "markdown",
   "id": "d0fcaf81",
   "metadata": {},
   "source": [
    "### 3.1 Create Train-Test Split and Helper Functions<a class=\"anchor\" id=\"section3.1\"></a>"
   ]
  },
  {
   "cell_type": "markdown",
   "id": "3e9d0303",
   "metadata": {},
   "source": [
    "30% of data is withheld as the test set. Only data where an offer has been successful is used for model training as we are only concerned with the conditional amount spent given a succesful offer."
   ]
  },
  {
   "cell_type": "code",
   "execution_count": 22,
   "id": "a05c7add",
   "metadata": {},
   "outputs": [],
   "source": [
    "# Select only success scenarios\n",
    "df_reg = df_all[df_all['success']==1]\n",
    "\n",
    "y_reg = df_reg['amount']\n",
    "\n",
    "features = ['age', 'income', 'member_duration','reward', 'difficulty', \n",
    "        'days', 'channel_web', 'channel_mobile', \n",
    "        'channel_social', 'gender_dum_M', 'offer_type_dum_discount']\n",
    "\n",
    "X_reg = df_reg[features]\n",
    "\n",
    "# Define train-test split\n",
    "X_train_reg, X_test_reg, y_train_reg, y_test_reg = train_test_split(X_reg, y_reg, test_size=0.3, random_state=42)"
   ]
  },
  {
   "cell_type": "markdown",
   "id": "ad882518",
   "metadata": {},
   "source": [
    "A helper function is also created to easily print regression scores, using mean squared error (MSE) as the success metric."
   ]
  },
  {
   "cell_type": "code",
   "execution_count": 23,
   "id": "67580f77",
   "metadata": {},
   "outputs": [],
   "source": [
    "# Helper function to print scores\n",
    "\n",
    "def regression_scores(model, X_train, X_test, y_train, y_test):\n",
    "    \n",
    "    pred_train= model.predict(X_train)\n",
    "    pred_test= model.predict(X_test)\n",
    "    \n",
    "    train_MSE = mean_squared_error(y_train, pred_train)\n",
    "    test_MSE = mean_squared_error(y_test, pred_test)\n",
    "    \n",
    "    print('R2 train', round(model.score(X_train, y_train),2))\n",
    "    print('Train MSE:', round(train_MSE,2))\n",
    "    print('')\n",
    "    print('R2 test', round(model.score(X_test, y_test),2))\n",
    "    print('Test MSE:', round(test_MSE,2))"
   ]
  },
  {
   "cell_type": "markdown",
   "id": "087fe4b2",
   "metadata": {},
   "source": [
    "### 3.2 Linear Regression<a class=\"anchor\" id=\"section3.2\"></a>"
   ]
  },
  {
   "cell_type": "markdown",
   "id": "d9e5cd28",
   "metadata": {},
   "source": [
    "Fit a simple linear regression to get a baseline."
   ]
  },
  {
   "cell_type": "code",
   "execution_count": 24,
   "id": "18777861",
   "metadata": {},
   "outputs": [
    {
     "name": "stdout",
     "output_type": "stream",
     "text": [
      "R2 train 0.46\n",
      "Train MSE: 39.42\n",
      "\n",
      "R2 test 0.47\n",
      "Test MSE: 39.05\n"
     ]
    }
   ],
   "source": [
    "lr = LinearRegression()\n",
    "lr.fit(X_train_reg,y_train_reg)\n",
    "\n",
    "regression_scores(lr, X_train_reg, X_test_reg, y_train_reg, y_test_reg)"
   ]
  },
  {
   "cell_type": "markdown",
   "id": "ba91c4bd",
   "metadata": {},
   "source": [
    "### 3.3 Random Forest Regressor<a class=\"anchor\" id=\"section3.3\"></a>"
   ]
  },
  {
   "cell_type": "markdown",
   "id": "dd43bde0",
   "metadata": {},
   "source": [
    "#### 3.3.1 Hyperparameter Tuning"
   ]
  },
  {
   "cell_type": "markdown",
   "id": "62c7135b",
   "metadata": {},
   "source": [
    "Hyperparameters are tuned using 5-fold cross validation. Due to time constraints, parameters are tuned in two steps rather than in 1 go. Random Search CV can also be used."
   ]
  },
  {
   "cell_type": "code",
   "execution_count": 25,
   "id": "792f0299",
   "metadata": {},
   "outputs": [
    {
     "name": "stdout",
     "output_type": "stream",
     "text": [
      "Tuned Parameters: {'min_samples_leaf': 25, 'n_estimators': 1000}\n",
      "Best score is 0.2835803732150929\n"
     ]
    }
   ],
   "source": [
    "# Number of trees in ensemble, default = 100\n",
    "n_estimators = [100, 300, 500, 1000]\n",
    "\n",
    "# Min samples in leaf, default = 1\n",
    "min_samples_leaf = [25, 50, 100, 200]\n",
    "param_grid = {'n_estimators': n_estimators,\n",
    "             'min_samples_leaf': min_samples_leaf}\n",
    "\n",
    "# Instantiate the GridSearchCV object\n",
    "model = RandomForestRegressor(n_jobs = -1, random_state =42)\n",
    "rfr_cv = GridSearchCV(model, param_grid, cv=5)\n",
    "rfr_cv.fit(X_train,y_train)\n",
    "\n",
    "# Print the tuned parameters and score\n",
    "print(\"Tuned Parameters: {}\".format(rfr_cv.best_params_)) \n",
    "print(\"Best score is {}\".format(rfr_cv.best_score_))"
   ]
  },
  {
   "cell_type": "code",
   "execution_count": 26,
   "id": "5a9e703c",
   "metadata": {},
   "outputs": [
    {
     "name": "stdout",
     "output_type": "stream",
     "text": [
      "Tuned Parameters: {'max_depth': 15}\n",
      "Best score is 0.28231903186834667\n"
     ]
    }
   ],
   "source": [
    "# Fix n_estimators and min_samples_leaf and tune depth\n",
    "m_depth = [1,3,6,10,15]\n",
    "\n",
    "param_grid = {'max_depth': m_depth}\n",
    "\n",
    "# Instantiate the GridSearchCV object\n",
    "model = RandomForestRegressor(n_jobs = -1, random_state =42,min_samples_leaf = 25, n_estimators = 1000)\n",
    "rfr_cv = GridSearchCV(model, param_grid, cv=5)\n",
    "rfr_cv.fit(X_train,y_train)\n",
    "\n",
    "# Print the tuned parameters and score\n",
    "print(\"Tuned Parameters: {}\".format(rfr_cv.best_params_)) \n",
    "print(\"Best score is {}\".format(rfr_cv.best_score_))"
   ]
  },
  {
   "cell_type": "markdown",
   "id": "9ead1cb7",
   "metadata": {},
   "source": [
    "#### 3.3.2 Train Model & Inspect Performance on Test Set"
   ]
  },
  {
   "cell_type": "markdown",
   "id": "a59e7524",
   "metadata": {},
   "source": [
    "Pass the best parameters into Random Forest and obtain test score. "
   ]
  },
  {
   "cell_type": "code",
   "execution_count": 27,
   "id": "d18bb28b",
   "metadata": {
    "scrolled": true
   },
   "outputs": [
    {
     "name": "stdout",
     "output_type": "stream",
     "text": [
      "R2 train 0.57\n",
      "Train MSE: 31.73\n",
      "\n",
      "R2 test 0.5\n",
      "Test MSE: 36.51\n"
     ]
    }
   ],
   "source": [
    "rfr = RandomForestRegressor(n_jobs = -1, random_state =42, \n",
    "                            min_samples_leaf = 25, \n",
    "                            n_estimators = 1000,\n",
    "                           max_depth = 15)\n",
    "\n",
    "rfr.fit(X_train_reg,y_train_reg)\n",
    "\n",
    "regression_scores(rfr, X_train_reg, X_test_reg, y_train_reg, y_test_reg)"
   ]
  },
  {
   "cell_type": "markdown",
   "id": "e94336d2",
   "metadata": {},
   "source": [
    "### 3.4 K-Nearest Neighbours Regressor<a class=\"anchor\" id=\"section3.4\"></a>"
   ]
  },
  {
   "cell_type": "markdown",
   "id": "eafeecda",
   "metadata": {},
   "source": [
    "#### 3.4.1 Selection of Optimal K"
   ]
  },
  {
   "cell_type": "markdown",
   "id": "af40a4cd",
   "metadata": {},
   "source": [
    "Using the elbow method, we visually select <b>K = 15</b> as the point where gain in accuracy from that point onwards is marginal."
   ]
  },
  {
   "cell_type": "code",
   "execution_count": 28,
   "id": "34b94da9",
   "metadata": {},
   "outputs": [
    {
     "data": {
      "image/png": "[encoded data removed]",
      "text/plain": [
       "<Figure size 720x432 with 1 Axes>"
      ]
     },
     "metadata": {
      "needs_background": "light"
     },
     "output_type": "display_data"
    }
   ],
   "source": [
    "error = []\n",
    "\n",
    "for i in range(1,40):\n",
    "    \n",
    "    knn = KNeighborsRegressor(n_neighbors=i)\n",
    "    knn.fit(X_train,y_train)\n",
    "    pred_i = knn.predict(X_test)\n",
    "    error.append(mean_squared_error(y_test, pred_i))\n",
    "    \n",
    "# Visualise error rate to see where it tapers off\n",
    "plt.figure(figsize=(10,6))\n",
    "plt.plot(range(1,40),error,color='blue', linestyle='dashed', marker='o',\n",
    "         markerfacecolor='red', markersize=10)\n",
    "plt.title('Error Rate (MSE) vs. K Value', fontsize = 20)\n",
    "plt.xlabel('K')\n",
    "plt.ylabel('Error Rate')\n",
    "plt.show()"
   ]
  },
  {
   "cell_type": "markdown",
   "id": "b9d53a3c",
   "metadata": {},
   "source": [
    "#### 3.4.2 Train Model & Inspect Performance on Test Set"
   ]
  },
  {
   "cell_type": "markdown",
   "id": "ca29e5d2",
   "metadata": {},
   "source": [
    "Pass the best parameters into KNN Regressor and obtain test score. "
   ]
  },
  {
   "cell_type": "code",
   "execution_count": 29,
   "id": "d421ebcc",
   "metadata": {},
   "outputs": [
    {
     "name": "stdout",
     "output_type": "stream",
     "text": [
      "R2 train 0.51\n",
      "Train MSE: 36.14\n",
      "\n",
      "R2 test 0.44\n",
      "Test MSE: 41.34\n"
     ]
    }
   ],
   "source": [
    "# Running with optimized k\n",
    "knn = KNeighborsRegressor(n_neighbors=15)\n",
    "knn.fit(X_train_reg,y_train_reg)\n",
    "\n",
    "regression_scores(knn, X_train_reg, X_test_reg, y_train_reg, y_test_reg)"
   ]
  },
  {
   "cell_type": "markdown",
   "id": "1f6021b3",
   "metadata": {},
   "source": [
    "### 3.5 Regressor Evaluation & Selection<a class=\"anchor\" id=\"section3.5\"></a>"
   ]
  },
  {
   "attachments": {},
   "cell_type": "markdown",
   "id": "3ca891b5",
   "metadata": {},
   "source": [
    "#### Best Performance: Random Forest Regressor\n",
    "\n",
    "Overall, we should proceeed with Random Forest Regressor to predict offer redemption given as it has the highest overall $r^2$ and lowest error.\n",
    "\n",
    "Each regressors' performance is summarised below, with best performance in green and worst in red. Test Set metrics are what are used for evaluation and Train Set is included for reference only.\n",
    "\n",
    "<img src = \"./images/regressor_results.png\" width=\"600\"/>\n"
   ]
  },
  {
   "cell_type": "markdown",
   "id": "6818bd49",
   "metadata": {},
   "source": [
    "### 3.6 Findings: The Most Important Features Predicting Amount Spent<a class=\"anchor\" id=\"section3.6\"></a>"
   ]
  },
  {
   "attachments": {},
   "cell_type": "markdown",
   "id": "a8a865b7",
   "metadata": {},
   "source": [
    "With opaque regressors like RandomForest, it is useful to use <b>permutation feature imporance</b> to see which features are most impactful. \n",
    "\n",
    "In a nutshell, this metric tells us which features, if present, are most likely to result in a better classification outcome. Refer to sklearn's insightful summary on [permutation feature importance](https://scikit-learn.org/stable/modules/permutation_importance.html)."
   ]
  },
  {
   "cell_type": "code",
   "execution_count": 30,
   "id": "be33445d",
   "metadata": {},
   "outputs": [
    {
     "data": {
      "image/png": "[encoded data removed]",
      "text/plain": [
       "<Figure size 576x432 with 1 Axes>"
      ]
     },
     "metadata": {
      "needs_background": "light"
     },
     "output_type": "display_data"
    }
   ],
   "source": [
    "result = permutation_importance(\n",
    "    rfr, X_test_reg, y_test_reg, n_repeats=10, random_state=42, n_jobs=-1\n",
    ")\n",
    "\n",
    "feature_names = [f\"{i}\" for i in X.columns]\n",
    "importances = result.importances_mean\n",
    "std = result.importances_std\n",
    "\n",
    "my_dict = {'feature_names': feature_names, 'feature_impt': importances, 'std': std}\n",
    "\n",
    "pi = pd.DataFrame.from_dict(my_dict)\n",
    "pi.sort_values(by = 'feature_impt', ascending = False, inplace = True)\n",
    "\n",
    "# Visualize feature importances\n",
    "fig, ax = plt.subplots(figsize=[8,6])\n",
    "plt.barh(y = pi['feature_names'], width = pi['feature_impt'], xerr=pi['std'])\n",
    "ax.set_title(\"Feature importances using permutation\", fontsize = 20)\n",
    "ax.set_xlabel(\"Mean accuracy decrease\")\n",
    "ax.invert_yaxis()  # labels read top-to-bottom\n",
    "fig.tight_layout()"
   ]
  },
  {
   "cell_type": "markdown",
   "id": "6d530933",
   "metadata": {},
   "source": [
    "#### The Most Important Feature Predicting Offer Completion\n",
    "\n",
    "We can clearly see that the most important factor in determining amount spent is the individual's income. This has two important implications:\n",
    "\n",
    "1. This underscores the importance of good data collection of the customer income feature, where legal\n",
    "2. From a marketing perspective, this means <b>more targeted customer acquisition campaigns to high-income individuals</b> would be justified as they eventually will also spend more"
   ]
  },
  {
   "cell_type": "markdown",
   "id": "4e0e6be8",
   "metadata": {},
   "source": [
    "## 4. Combined Expected Value Model<a class=\"anchor\" id=\"section4\"></a>"
   ]
  },
  {
   "cell_type": "markdown",
   "id": "21bb2304",
   "metadata": {},
   "source": [
    "Following this we can apply both models to optimise the promotions sent to a specific customer.\n",
    "\n",
    "For example, we can start with person id *ffe5257abf8840b395e1ee6b29894637* who is a 77 year old male, with 75,000 income and has been a member for 338 days. In the experiment, he received 5 promotions in a month of which only 1 was successful. He spent \\$15.22 as a result of that successful buy-one-get-one offer."
   ]
  },
  {
   "cell_type": "code",
   "execution_count": 31,
   "id": "f0524f0e",
   "metadata": {},
   "outputs": [
    {
     "data": {
      "text/html": [
       "<div>\n",
       "<style scoped>\n",
       "    .dataframe tbody tr th:only-of-type {\n",
       "        vertical-align: middle;\n",
       "    }\n",
       "\n",
       "    .dataframe tbody tr th {\n",
       "        vertical-align: top;\n",
       "    }\n",
       "\n",
       "    .dataframe thead th {\n",
       "        text-align: right;\n",
       "    }\n",
       "</style>\n",
       "<table border=\"1\" class=\"dataframe\">\n",
       "  <thead>\n",
       "    <tr style=\"text-align: right;\">\n",
       "      <th></th>\n",
       "      <th>promo_name</th>\n",
       "      <th>success</th>\n",
       "      <th>amount</th>\n",
       "      <th>age</th>\n",
       "      <th>income</th>\n",
       "      <th>member_duration</th>\n",
       "      <th>reward</th>\n",
       "      <th>difficulty</th>\n",
       "      <th>days</th>\n",
       "      <th>channel_web</th>\n",
       "      <th>channel_mobile</th>\n",
       "      <th>channel_social</th>\n",
       "      <th>gender_dum_M</th>\n",
       "      <th>offer_type_dum_discount</th>\n",
       "    </tr>\n",
       "  </thead>\n",
       "  <tbody>\n",
       "    <tr>\n",
       "      <th>6172</th>\n",
       "      <td>disc-1</td>\n",
       "      <td>0</td>\n",
       "      <td>34.95</td>\n",
       "      <td>77</td>\n",
       "      <td>75000.0</td>\n",
       "      <td>338</td>\n",
       "      <td>2</td>\n",
       "      <td>10</td>\n",
       "      <td>9.00</td>\n",
       "      <td>1</td>\n",
       "      <td>1</td>\n",
       "      <td>0</td>\n",
       "      <td>1</td>\n",
       "      <td>1</td>\n",
       "    </tr>\n",
       "    <tr>\n",
       "      <th>12334</th>\n",
       "      <td>bogo-1</td>\n",
       "      <td>0</td>\n",
       "      <td>0.00</td>\n",
       "      <td>77</td>\n",
       "      <td>75000.0</td>\n",
       "      <td>338</td>\n",
       "      <td>5</td>\n",
       "      <td>5</td>\n",
       "      <td>17.75</td>\n",
       "      <td>1</td>\n",
       "      <td>1</td>\n",
       "      <td>1</td>\n",
       "      <td>1</td>\n",
       "      <td>0</td>\n",
       "    </tr>\n",
       "    <tr>\n",
       "      <th>43523</th>\n",
       "      <td>bogo-2</td>\n",
       "      <td>1</td>\n",
       "      <td>15.22</td>\n",
       "      <td>77</td>\n",
       "      <td>75000.0</td>\n",
       "      <td>338</td>\n",
       "      <td>5</td>\n",
       "      <td>5</td>\n",
       "      <td>15.50</td>\n",
       "      <td>1</td>\n",
       "      <td>1</td>\n",
       "      <td>0</td>\n",
       "      <td>1</td>\n",
       "      <td>0</td>\n",
       "    </tr>\n",
       "    <tr>\n",
       "      <th>49821</th>\n",
       "      <td>disc-4</td>\n",
       "      <td>0</td>\n",
       "      <td>34.95</td>\n",
       "      <td>77</td>\n",
       "      <td>75000.0</td>\n",
       "      <td>338</td>\n",
       "      <td>5</td>\n",
       "      <td>20</td>\n",
       "      <td>9.00</td>\n",
       "      <td>1</td>\n",
       "      <td>0</td>\n",
       "      <td>0</td>\n",
       "      <td>1</td>\n",
       "      <td>1</td>\n",
       "    </tr>\n",
       "    <tr>\n",
       "      <th>49822</th>\n",
       "      <td>disc-4</td>\n",
       "      <td>0</td>\n",
       "      <td>0.00</td>\n",
       "      <td>77</td>\n",
       "      <td>75000.0</td>\n",
       "      <td>338</td>\n",
       "      <td>5</td>\n",
       "      <td>20</td>\n",
       "      <td>21.00</td>\n",
       "      <td>1</td>\n",
       "      <td>0</td>\n",
       "      <td>0</td>\n",
       "      <td>1</td>\n",
       "      <td>1</td>\n",
       "    </tr>\n",
       "  </tbody>\n",
       "</table>\n",
       "</div>"
      ],
      "text/plain": [
       "      promo_name  success  amount  age   income  member_duration  reward  \\\n",
       "6172      disc-1        0   34.95   77  75000.0              338       2   \n",
       "12334     bogo-1        0    0.00   77  75000.0              338       5   \n",
       "43523     bogo-2        1   15.22   77  75000.0              338       5   \n",
       "49821     disc-4        0   34.95   77  75000.0              338       5   \n",
       "49822     disc-4        0    0.00   77  75000.0              338       5   \n",
       "\n",
       "       difficulty   days  channel_web  channel_mobile  channel_social  \\\n",
       "6172           10   9.00            1               1               0   \n",
       "12334           5  17.75            1               1               1   \n",
       "43523           5  15.50            1               1               0   \n",
       "49821          20   9.00            1               0               0   \n",
       "49822          20  21.00            1               0               0   \n",
       "\n",
       "       gender_dum_M  offer_type_dum_discount  \n",
       "6172              1                        1  \n",
       "12334             1                        0  \n",
       "43523             1                        0  \n",
       "49821             1                        1  \n",
       "49822             1                        1  "
      ]
     },
     "execution_count": 31,
     "metadata": {},
     "output_type": "execute_result"
    }
   ],
   "source": [
    "df_all[df_all['person'] == 'ffe5257abf8840b395e1ee6b29894637'][['promo_name','success','amount']+features]"
   ]
  },
  {
   "cell_type": "markdown",
   "id": "75f4ced3",
   "metadata": {},
   "source": [
    "### 4.1 Offer Ranking Using Trained Models<a class=\"anchor\" id=\"section4.1\"></a>\n",
    "\n",
    "<b> Steps </b>\n",
    "1. Demographic and promotions data first fed into the classifier to get $ P(OfferSuccess)$\n",
    "2. The same features are then fed to the regressor to get $Expected Spend$\n",
    "3. The promotions are then ranked by Expected Value ($P(OfferSuccess) * Expected Spend$)\n",
    "\n",
    "<b> Assumptions </b>\n",
    "- We should only serve the top 4 best promotions in a single month\n",
    "    - This prevents brand equity dilution by restricting offers to just once per week\n",
    "    - This preserves the mode number of offers sent in the current dataset (ranges from 1 to 10)\n",
    "- We should not repeat promotions\n",
    "    - Offer success probabilities may change for subsequent promotions of the same type, this has not been modelled here"
   ]
  },
  {
   "cell_type": "code",
   "execution_count": 32,
   "id": "6fb23344",
   "metadata": {},
   "outputs": [
    {
     "data": {
      "text/html": [
       "<div>\n",
       "<style scoped>\n",
       "    .dataframe tbody tr th:only-of-type {\n",
       "        vertical-align: middle;\n",
       "    }\n",
       "\n",
       "    .dataframe tbody tr th {\n",
       "        vertical-align: top;\n",
       "    }\n",
       "\n",
       "    .dataframe thead th {\n",
       "        text-align: right;\n",
       "    }\n",
       "</style>\n",
       "<table border=\"1\" class=\"dataframe\">\n",
       "  <thead>\n",
       "    <tr style=\"text-align: right;\">\n",
       "      <th></th>\n",
       "      <th>promo_name</th>\n",
       "      <th>age</th>\n",
       "      <th>income</th>\n",
       "      <th>member_duration</th>\n",
       "      <th>reward</th>\n",
       "      <th>difficulty</th>\n",
       "      <th>days</th>\n",
       "      <th>channel_web</th>\n",
       "      <th>channel_mobile</th>\n",
       "      <th>channel_social</th>\n",
       "      <th>gender_dum_M</th>\n",
       "      <th>offer_type_dum_discount</th>\n",
       "    </tr>\n",
       "  </thead>\n",
       "  <tbody>\n",
       "    <tr>\n",
       "      <th>0</th>\n",
       "      <td>bogo-4</td>\n",
       "      <td>77</td>\n",
       "      <td>75000</td>\n",
       "      <td>338</td>\n",
       "      <td>10</td>\n",
       "      <td>10</td>\n",
       "      <td>15</td>\n",
       "      <td>0</td>\n",
       "      <td>1</td>\n",
       "      <td>1</td>\n",
       "      <td>1</td>\n",
       "      <td>0</td>\n",
       "    </tr>\n",
       "    <tr>\n",
       "      <th>1</th>\n",
       "      <td>bogo-3</td>\n",
       "      <td>77</td>\n",
       "      <td>75000</td>\n",
       "      <td>338</td>\n",
       "      <td>10</td>\n",
       "      <td>10</td>\n",
       "      <td>15</td>\n",
       "      <td>1</td>\n",
       "      <td>1</td>\n",
       "      <td>1</td>\n",
       "      <td>1</td>\n",
       "      <td>0</td>\n",
       "    </tr>\n",
       "    <tr>\n",
       "      <th>2</th>\n",
       "      <td>bogo-2</td>\n",
       "      <td>77</td>\n",
       "      <td>75000</td>\n",
       "      <td>338</td>\n",
       "      <td>5</td>\n",
       "      <td>5</td>\n",
       "      <td>15</td>\n",
       "      <td>1</td>\n",
       "      <td>1</td>\n",
       "      <td>0</td>\n",
       "      <td>1</td>\n",
       "      <td>0</td>\n",
       "    </tr>\n",
       "    <tr>\n",
       "      <th>3</th>\n",
       "      <td>disc-4</td>\n",
       "      <td>77</td>\n",
       "      <td>75000</td>\n",
       "      <td>338</td>\n",
       "      <td>5</td>\n",
       "      <td>20</td>\n",
       "      <td>15</td>\n",
       "      <td>1</td>\n",
       "      <td>0</td>\n",
       "      <td>0</td>\n",
       "      <td>1</td>\n",
       "      <td>1</td>\n",
       "    </tr>\n",
       "    <tr>\n",
       "      <th>4</th>\n",
       "      <td>disc-3</td>\n",
       "      <td>77</td>\n",
       "      <td>75000</td>\n",
       "      <td>338</td>\n",
       "      <td>3</td>\n",
       "      <td>7</td>\n",
       "      <td>15</td>\n",
       "      <td>1</td>\n",
       "      <td>1</td>\n",
       "      <td>1</td>\n",
       "      <td>1</td>\n",
       "      <td>1</td>\n",
       "    </tr>\n",
       "    <tr>\n",
       "      <th>5</th>\n",
       "      <td>disc-2</td>\n",
       "      <td>77</td>\n",
       "      <td>75000</td>\n",
       "      <td>338</td>\n",
       "      <td>2</td>\n",
       "      <td>10</td>\n",
       "      <td>15</td>\n",
       "      <td>1</td>\n",
       "      <td>1</td>\n",
       "      <td>1</td>\n",
       "      <td>1</td>\n",
       "      <td>1</td>\n",
       "    </tr>\n",
       "    <tr>\n",
       "      <th>6</th>\n",
       "      <td>bogo-1</td>\n",
       "      <td>77</td>\n",
       "      <td>75000</td>\n",
       "      <td>338</td>\n",
       "      <td>5</td>\n",
       "      <td>5</td>\n",
       "      <td>15</td>\n",
       "      <td>1</td>\n",
       "      <td>1</td>\n",
       "      <td>1</td>\n",
       "      <td>1</td>\n",
       "      <td>0</td>\n",
       "    </tr>\n",
       "    <tr>\n",
       "      <th>7</th>\n",
       "      <td>disc-1</td>\n",
       "      <td>77</td>\n",
       "      <td>75000</td>\n",
       "      <td>338</td>\n",
       "      <td>2</td>\n",
       "      <td>10</td>\n",
       "      <td>15</td>\n",
       "      <td>1</td>\n",
       "      <td>1</td>\n",
       "      <td>0</td>\n",
       "      <td>1</td>\n",
       "      <td>1</td>\n",
       "    </tr>\n",
       "  </tbody>\n",
       "</table>\n",
       "</div>"
      ],
      "text/plain": [
       "  promo_name  age  income  member_duration  reward  difficulty  days  \\\n",
       "0     bogo-4   77   75000              338      10          10    15   \n",
       "1     bogo-3   77   75000              338      10          10    15   \n",
       "2     bogo-2   77   75000              338       5           5    15   \n",
       "3     disc-4   77   75000              338       5          20    15   \n",
       "4     disc-3   77   75000              338       3           7    15   \n",
       "5     disc-2   77   75000              338       2          10    15   \n",
       "6     bogo-1   77   75000              338       5           5    15   \n",
       "7     disc-1   77   75000              338       2          10    15   \n",
       "\n",
       "   channel_web  channel_mobile  channel_social  gender_dum_M  \\\n",
       "0            0               1               1             1   \n",
       "1            1               1               1             1   \n",
       "2            1               1               0             1   \n",
       "3            1               0               0             1   \n",
       "4            1               1               1             1   \n",
       "5            1               1               1             1   \n",
       "6            1               1               1             1   \n",
       "7            1               1               0             1   \n",
       "\n",
       "   offer_type_dum_discount  \n",
       "0                        0  \n",
       "1                        0  \n",
       "2                        0  \n",
       "3                        1  \n",
       "4                        1  \n",
       "5                        1  \n",
       "6                        0  \n",
       "7                        1  "
      ]
     },
     "execution_count": 32,
     "metadata": {},
     "output_type": "execute_result"
    }
   ],
   "source": [
    "example = pd.read_csv('data/example.csv')\n",
    "example"
   ]
  },
  {
   "cell_type": "markdown",
   "id": "96e5f190",
   "metadata": {},
   "source": [
    "<b>Step 1:</b> Demographic and promotions data first fed into the classifier to get  𝑃(𝑂𝑓𝑓𝑒𝑟𝑆𝑢𝑐𝑐𝑒𝑠𝑠)"
   ]
  },
  {
   "cell_type": "code",
   "execution_count": 33,
   "id": "b7302225",
   "metadata": {},
   "outputs": [
    {
     "data": {
      "text/plain": [
       "array([0.41, 0.46, 0.34, 0.27, 0.63, 0.61, 0.49, 0.33], dtype=float32)"
      ]
     },
     "execution_count": 33,
     "metadata": {},
     "output_type": "execute_result"
    }
   ],
   "source": [
    "float_formatter = \"{:.2f}\".format\n",
    "np.set_printoptions(formatter={'float_kind':float_formatter})\n",
    "\n",
    "example_p_offer_success = xgb.predict_proba(example.iloc[:,1:])# Exclude promo_name from features \n",
    "example_p_offer_success = example_p_offer_success[:,1] # Take only the probability of class 1 i.e. offer success = True \n",
    "example_p_offer_success"
   ]
  },
  {
   "cell_type": "markdown",
   "id": "f4bc92ef",
   "metadata": {},
   "source": [
    "<b>Step 2:</b> The same features are then fed to the regressor to get  $𝐸𝑥𝑝𝑒𝑐𝑡𝑒𝑑𝑆𝑝𝑒𝑛𝑑$"
   ]
  },
  {
   "cell_type": "code",
   "execution_count": 34,
   "id": "d467198e",
   "metadata": {},
   "outputs": [
    {
     "data": {
      "text/plain": [
       "array([19.74, 19.63, 19.63, 20.40, 19.33, 19.43, 18.82, 19.98])"
      ]
     },
     "execution_count": 34,
     "metadata": {},
     "output_type": "execute_result"
    }
   ],
   "source": [
    "example_exp_spend = rfr.predict(example.iloc[:,1:])# Exclude promo_name from features \n",
    "example_exp_spend"
   ]
  },
  {
   "cell_type": "markdown",
   "id": "7dd9d65c",
   "metadata": {},
   "source": [
    "<b>Step 3:</b> The promotions are then ranked by Expected Value ($P(OfferSuccess) * Expected Spend$)"
   ]
  },
  {
   "cell_type": "code",
   "execution_count": 35,
   "id": "d35ac83f",
   "metadata": {},
   "outputs": [
    {
     "data": {
      "text/html": [
       "<div>\n",
       "<style scoped>\n",
       "    .dataframe tbody tr th:only-of-type {\n",
       "        vertical-align: middle;\n",
       "    }\n",
       "\n",
       "    .dataframe tbody tr th {\n",
       "        vertical-align: top;\n",
       "    }\n",
       "\n",
       "    .dataframe thead th {\n",
       "        text-align: right;\n",
       "    }\n",
       "</style>\n",
       "<table border=\"1\" class=\"dataframe\">\n",
       "  <thead>\n",
       "    <tr style=\"text-align: right;\">\n",
       "      <th></th>\n",
       "      <th>promo_name</th>\n",
       "      <th>P(Offer Success)</th>\n",
       "      <th>Expected Spend</th>\n",
       "      <th>P(Offer Success) x Expected Spend</th>\n",
       "    </tr>\n",
       "  </thead>\n",
       "  <tbody>\n",
       "    <tr>\n",
       "      <th>0</th>\n",
       "      <td>bogo-4</td>\n",
       "      <td>0.406683</td>\n",
       "      <td>19.743503</td>\n",
       "      <td>8.029352</td>\n",
       "    </tr>\n",
       "    <tr>\n",
       "      <th>1</th>\n",
       "      <td>bogo-3</td>\n",
       "      <td>0.461236</td>\n",
       "      <td>19.629418</td>\n",
       "      <td>9.053791</td>\n",
       "    </tr>\n",
       "    <tr>\n",
       "      <th>2</th>\n",
       "      <td>bogo-2</td>\n",
       "      <td>0.339964</td>\n",
       "      <td>19.631866</td>\n",
       "      <td>6.674131</td>\n",
       "    </tr>\n",
       "    <tr>\n",
       "      <th>3</th>\n",
       "      <td>disc-4</td>\n",
       "      <td>0.265187</td>\n",
       "      <td>20.404650</td>\n",
       "      <td>5.411046</td>\n",
       "    </tr>\n",
       "    <tr>\n",
       "      <th>4</th>\n",
       "      <td>disc-3</td>\n",
       "      <td>0.628778</td>\n",
       "      <td>19.328527</td>\n",
       "      <td>12.153360</td>\n",
       "    </tr>\n",
       "    <tr>\n",
       "      <th>5</th>\n",
       "      <td>disc-2</td>\n",
       "      <td>0.608454</td>\n",
       "      <td>19.434354</td>\n",
       "      <td>11.824909</td>\n",
       "    </tr>\n",
       "    <tr>\n",
       "      <th>6</th>\n",
       "      <td>bogo-1</td>\n",
       "      <td>0.494991</td>\n",
       "      <td>18.822586</td>\n",
       "      <td>9.317015</td>\n",
       "    </tr>\n",
       "    <tr>\n",
       "      <th>7</th>\n",
       "      <td>disc-1</td>\n",
       "      <td>0.333459</td>\n",
       "      <td>19.984149</td>\n",
       "      <td>6.663903</td>\n",
       "    </tr>\n",
       "  </tbody>\n",
       "</table>\n",
       "</div>"
      ],
      "text/plain": [
       "  promo_name  P(Offer Success)  Expected Spend  \\\n",
       "0     bogo-4          0.406683       19.743503   \n",
       "1     bogo-3          0.461236       19.629418   \n",
       "2     bogo-2          0.339964       19.631866   \n",
       "3     disc-4          0.265187       20.404650   \n",
       "4     disc-3          0.628778       19.328527   \n",
       "5     disc-2          0.608454       19.434354   \n",
       "6     bogo-1          0.494991       18.822586   \n",
       "7     disc-1          0.333459       19.984149   \n",
       "\n",
       "   P(Offer Success) x Expected Spend  \n",
       "0                           8.029352  \n",
       "1                           9.053791  \n",
       "2                           6.674131  \n",
       "3                           5.411046  \n",
       "4                          12.153360  \n",
       "5                          11.824909  \n",
       "6                           9.317015  \n",
       "7                           6.663903  "
      ]
     },
     "execution_count": 35,
     "metadata": {},
     "output_type": "execute_result"
    }
   ],
   "source": [
    "ranking = example[['promo_name']]\n",
    "ranking['P(Offer Success)'] = example_p_offer_success\n",
    "ranking['Expected Spend'] = example_exp_spend\n",
    "ranking['P(Offer Success) x Expected Spend'] = ranking['P(Offer Success)'] * ranking['Expected Spend']\n",
    "ranking"
   ]
  },
  {
   "cell_type": "markdown",
   "id": "bbf0ebb8",
   "metadata": {},
   "source": [
    "<b>Final Result</b>: The top 4 offers to be served are as disc-3, disc-2, bogo-1 and bogo-3"
   ]
  },
  {
   "cell_type": "code",
   "execution_count": 36,
   "id": "5b03022d",
   "metadata": {},
   "outputs": [
    {
     "data": {
      "text/html": [
       "<div>\n",
       "<style scoped>\n",
       "    .dataframe tbody tr th:only-of-type {\n",
       "        vertical-align: middle;\n",
       "    }\n",
       "\n",
       "    .dataframe tbody tr th {\n",
       "        vertical-align: top;\n",
       "    }\n",
       "\n",
       "    .dataframe thead th {\n",
       "        text-align: right;\n",
       "    }\n",
       "</style>\n",
       "<table border=\"1\" class=\"dataframe\">\n",
       "  <thead>\n",
       "    <tr style=\"text-align: right;\">\n",
       "      <th></th>\n",
       "      <th>promo_name</th>\n",
       "      <th>P(Offer Success)</th>\n",
       "      <th>Expected Spend</th>\n",
       "      <th>P(Offer Success) x Expected Spend</th>\n",
       "    </tr>\n",
       "  </thead>\n",
       "  <tbody>\n",
       "    <tr>\n",
       "      <th>4</th>\n",
       "      <td>disc-3</td>\n",
       "      <td>0.628778</td>\n",
       "      <td>19.328527</td>\n",
       "      <td>12.153360</td>\n",
       "    </tr>\n",
       "    <tr>\n",
       "      <th>5</th>\n",
       "      <td>disc-2</td>\n",
       "      <td>0.608454</td>\n",
       "      <td>19.434354</td>\n",
       "      <td>11.824909</td>\n",
       "    </tr>\n",
       "    <tr>\n",
       "      <th>6</th>\n",
       "      <td>bogo-1</td>\n",
       "      <td>0.494991</td>\n",
       "      <td>18.822586</td>\n",
       "      <td>9.317015</td>\n",
       "    </tr>\n",
       "    <tr>\n",
       "      <th>1</th>\n",
       "      <td>bogo-3</td>\n",
       "      <td>0.461236</td>\n",
       "      <td>19.629418</td>\n",
       "      <td>9.053791</td>\n",
       "    </tr>\n",
       "  </tbody>\n",
       "</table>\n",
       "</div>"
      ],
      "text/plain": [
       "  promo_name  P(Offer Success)  Expected Spend  \\\n",
       "4     disc-3          0.628778       19.328527   \n",
       "5     disc-2          0.608454       19.434354   \n",
       "6     bogo-1          0.494991       18.822586   \n",
       "1     bogo-3          0.461236       19.629418   \n",
       "\n",
       "   P(Offer Success) x Expected Spend  \n",
       "4                          12.153360  \n",
       "5                          11.824909  \n",
       "6                           9.317015  \n",
       "1                           9.053791  "
      ]
     },
     "execution_count": 36,
     "metadata": {},
     "output_type": "execute_result"
    }
   ],
   "source": [
    "# Sort promo_name by score\n",
    "ranking.sort_values('P(Offer Success) x Expected Spend', ascending = False).iloc[0:4]"
   ]
  }
 ],
 "metadata": {
  "kernelspec": {
   "display_name": "Python 3 (ipykernel)",
   "language": "python",
   "name": "python3"
  },
  "language_info": {
   "codemirror_mode": {
    "name": "ipython",
    "version": 3
   },
   "file_extension": ".py",
   "mimetype": "text/x-python",
   "name": "python",
   "nbconvert_exporter": "python",
   "pygments_lexer": "ipython3",
   "version": "3.8.12"
  }
 },
 "nbformat": 4,
 "nbformat_minor": 5
}
